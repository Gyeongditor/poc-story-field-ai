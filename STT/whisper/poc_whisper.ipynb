{
 "cells": [
  {
   "cell_type": "code",
   "execution_count": 1,
   "id": "787fd791",
   "metadata": {},
   "outputs": [],
   "source": [
    "import whisper\n",
    "import torch"
   ]
  },
  {
   "cell_type": "code",
   "execution_count": 2,
   "id": "13cfdd38",
   "metadata": {},
   "outputs": [
    {
     "name": "stderr",
     "output_type": "stream",
     "text": [
      "d:\\Anaconda\\envs\\POC_STT\\lib\\site-packages\\whisper\\__init__.py:150: FutureWarning: You are using `torch.load` with `weights_only=False` (the current default value), which uses the default pickle module implicitly. It is possible to construct malicious pickle data which will execute arbitrary code during unpickling (See https://github.com/pytorch/pytorch/blob/main/SECURITY.md#untrusted-models for more details). In a future release, the default value for `weights_only` will be flipped to `True`. This limits the functions that could be executed during unpickling. Arbitrary objects will no longer be allowed to be loaded via this mode unless they are explicitly allowlisted by the user via `torch.serialization.add_safe_globals`. We recommend you start setting `weights_only=True` for any use case where you don't have full control of the loaded file. Please open an issue on GitHub for any issues related to this experimental feature.\n",
      "  checkpoint = torch.load(fp, map_location=device)\n"
     ]
    }
   ],
   "source": [
    "whisper_model = whisper.load_model('base')"
   ]
  },
  {
   "cell_type": "code",
   "execution_count": 3,
   "id": "1a78226d",
   "metadata": {},
   "outputs": [
    {
     "data": {
      "text/plain": [
       "'d:\\\\gap_year\\\\poc-story-field-ai\\\\STT\\\\whisper'"
      ]
     },
     "execution_count": 3,
     "metadata": {},
     "output_type": "execute_result"
    }
   ],
   "source": [
    "%pwd"
   ]
  },
  {
   "cell_type": "code",
   "execution_count": 3,
   "id": "c13d5ffe",
   "metadata": {},
   "outputs": [],
   "source": [
    "audio_path = f\"D:/gap_year/poc-story-field-ai/STT/whisper/test_data/travel_test.wav\""
   ]
  },
  {
   "cell_type": "code",
   "execution_count": 9,
   "id": "4bac3cf4",
   "metadata": {},
   "outputs": [],
   "source": [
    "audio_path = f\"D:/gap_year/poc-story-field-ai/STT/whisper/test_data/fairytale_test.mp3\""
   ]
  },
  {
   "cell_type": "code",
   "execution_count": 10,
   "id": "1d735ddc",
   "metadata": {},
   "outputs": [
    {
     "name": "stdout",
     "output_type": "stream",
     "text": [
      "True\n",
      "True\n"
     ]
    }
   ],
   "source": [
    "import os\n",
    "print(os.path.exists(\"D:/gap_year/poc-story-field-ai/STT/whisper/test_data/travel_test.wav\"))\n",
    "print(os.path.exists(\"D:/gap_year/poc-story-field-ai/STT/whisper/test_data/fairytale_test.mp3\"))\n"
   ]
  },
  {
   "cell_type": "code",
   "execution_count": 11,
   "id": "d4d40385",
   "metadata": {},
   "outputs": [
    {
     "name": "stderr",
     "output_type": "stream",
     "text": [
      "d:\\Anaconda\\envs\\POC_STT\\lib\\site-packages\\whisper\\model.py:124: UserWarning: 1Torch was not compiled with flash attention. (Triggered internally at C:\\actions-runner\\_work\\pytorch\\pytorch\\builder\\windows\\pytorch\\aten\\src\\ATen\\native\\transformers\\cuda\\sdp_utils.cpp:555.)\n",
      "  a = scaled_dot_product_attention(\n"
     ]
    }
   ],
   "source": [
    "result = whisper_model.transcribe(audio_path)"
   ]
  },
  {
   "cell_type": "code",
   "execution_count": 12,
   "id": "6106dbd8",
   "metadata": {},
   "outputs": [
    {
     "name": "stdout",
     "output_type": "stream",
     "text": [
      "{'text': ' 빙뚱뚱 빙뚱 빙뚱 빙뚱 빙뚱 지혜로운 까마귀 빙뚱 빙뚱 빙뚱 빙뚱 모 없이 더운 여름 날 한 까마귀가 물을 찾아다니고 있었어요 빙뚱 아아 그러나 희 냄물이 말라버려서 물을 구할 수가 없었어요 아 목말라 어디가 선물을 구한다 한참 동안 해매던 까마귀는 병을 하나 발견했어요 아! 불편이다 까마귀는 깊어하며 불평소로 불평소로 불을 집어놨어요 물을 집어놨어요 물을 집어놨어요 물을 집어놨어요 물을 집어놨어요 그러나 물이 병 밑바닥에 조금밖에 없어서 물이가 물까지 닫질 않았어요 겨우 찾아냄물인데 맛있을 수가 없다니 무슨 좋은 방법이 없을까 자음념시 그리를 겨우거리 던 감아기는 좋은 수가 떠올랐어요. 좋아! 그렇게 하면 물을 마실 수 있겠어! 감아기는 작은 볼맹이들을 입에 물고 와서 병속에 계속 집어넣었어요. 그러자 병속에 물이 점점 올라와서 감아기에 불이까지 다 왔어요. 이제 살았다! 감아기는 시원하게 물을 마실 수 있었답니다. 생주들이 사는 마을에 그연이가 나타난 이불에 생주들은 사로도 편한 말이 없었어요. 참다 못한 생주들은 이 문제를 해결하기 위해', 'segments': [{'id': 0, 'seek': 0, 'start': 0.0, 'end': 2.0, 'text': ' 빙뚱뚱', 'tokens': [50364, 5005, 247, 167, 248, 109, 167, 248, 109, 50464], 'temperature': 0.0, 'avg_logprob': -0.3314448765345982, 'compression_ratio': 1.475, 'no_speech_prob': 0.012608644552528858}, {'id': 1, 'seek': 0, 'start': 2.0, 'end': 4.0, 'text': ' 빙뚱', 'tokens': [50464, 5005, 247, 167, 248, 109, 50564], 'temperature': 0.0, 'avg_logprob': -0.3314448765345982, 'compression_ratio': 1.475, 'no_speech_prob': 0.012608644552528858}, {'id': 2, 'seek': 0, 'start': 4.0, 'end': 6.0, 'text': ' 빙뚱', 'tokens': [50564, 5005, 247, 167, 248, 109, 50664], 'temperature': 0.0, 'avg_logprob': -0.3314448765345982, 'compression_ratio': 1.475, 'no_speech_prob': 0.012608644552528858}, {'id': 3, 'seek': 0, 'start': 6.0, 'end': 8.0, 'text': ' 빙뚱', 'tokens': [50664, 5005, 247, 167, 248, 109, 50764], 'temperature': 0.0, 'avg_logprob': -0.3314448765345982, 'compression_ratio': 1.475, 'no_speech_prob': 0.012608644552528858}, {'id': 4, 'seek': 0, 'start': 8.0, 'end': 10.0, 'text': ' 빙뚱', 'tokens': [50764, 5005, 247, 167, 248, 109, 50864], 'temperature': 0.0, 'avg_logprob': -0.3314448765345982, 'compression_ratio': 1.475, 'no_speech_prob': 0.012608644552528858}, {'id': 5, 'seek': 0, 'start': 10.0, 'end': 12.0, 'text': ' 지혜로운 까마귀', 'tokens': [50864, 4704, 5262, 15636, 9996, 8394, 2457, 8667, 46862, 50964], 'temperature': 0.0, 'avg_logprob': -0.3314448765345982, 'compression_ratio': 1.475, 'no_speech_prob': 0.012608644552528858}, {'id': 6, 'seek': 0, 'start': 12.0, 'end': 14.0, 'text': ' 빙뚱', 'tokens': [50964, 5005, 247, 167, 248, 109, 51064], 'temperature': 0.0, 'avg_logprob': -0.3314448765345982, 'compression_ratio': 1.475, 'no_speech_prob': 0.012608644552528858}, {'id': 7, 'seek': 0, 'start': 14.0, 'end': 16.0, 'text': ' 빙뚱', 'tokens': [51064, 5005, 247, 167, 248, 109, 51164], 'temperature': 0.0, 'avg_logprob': -0.3314448765345982, 'compression_ratio': 1.475, 'no_speech_prob': 0.012608644552528858}, {'id': 8, 'seek': 0, 'start': 16.0, 'end': 18.0, 'text': ' 빙뚱', 'tokens': [51164, 5005, 247, 167, 248, 109, 51264], 'temperature': 0.0, 'avg_logprob': -0.3314448765345982, 'compression_ratio': 1.475, 'no_speech_prob': 0.012608644552528858}, {'id': 9, 'seek': 0, 'start': 18.0, 'end': 20.0, 'text': ' 빙뚱', 'tokens': [51264, 5005, 247, 167, 248, 109, 51364], 'temperature': 0.0, 'avg_logprob': -0.3314448765345982, 'compression_ratio': 1.475, 'no_speech_prob': 0.012608644552528858}, {'id': 10, 'seek': 0, 'start': 20.0, 'end': 22.0, 'text': ' 모 없이 더운 여름 날', 'tokens': [51364, 11722, 33353, 6990, 9996, 8228, 13488, 16316, 51464], 'temperature': 0.0, 'avg_logprob': -0.3314448765345982, 'compression_ratio': 1.475, 'no_speech_prob': 0.012608644552528858}, {'id': 11, 'seek': 0, 'start': 22.0, 'end': 24.0, 'text': ' 한 까마귀가', 'tokens': [51464, 4815, 8394, 2457, 8667, 46862, 1453, 51564], 'temperature': 0.0, 'avg_logprob': -0.3314448765345982, 'compression_ratio': 1.475, 'no_speech_prob': 0.012608644552528858}, {'id': 12, 'seek': 0, 'start': 24.0, 'end': 26.0, 'text': ' 물을 찾아다니고 있었어요', 'tokens': [51564, 14403, 1638, 33219, 1235, 1425, 1313, 15972, 4213, 51664], 'temperature': 0.0, 'avg_logprob': -0.3314448765345982, 'compression_ratio': 1.475, 'no_speech_prob': 0.012608644552528858}, {'id': 13, 'seek': 0, 'start': 26.0, 'end': 28.0, 'text': ' 빙뚱', 'tokens': [51664, 5005, 247, 167, 248, 109, 51764], 'temperature': 0.0, 'avg_logprob': -0.3314448765345982, 'compression_ratio': 1.475, 'no_speech_prob': 0.012608644552528858}, {'id': 14, 'seek': 2800, 'start': 28.0, 'end': 30.0, 'text': ' 아아', 'tokens': [50364, 2216, 2230, 50464], 'temperature': 0.0, 'avg_logprob': -0.37205253679727773, 'compression_ratio': 1.3932584269662922, 'no_speech_prob': 3.466979251243174e-05}, {'id': 15, 'seek': 2800, 'start': 30.0, 'end': 32.0, 'text': ' 그러나', 'tokens': [50464, 13725, 3404, 50564], 'temperature': 0.0, 'avg_logprob': -0.37205253679727773, 'compression_ratio': 1.3932584269662922, 'no_speech_prob': 3.466979251243174e-05}, {'id': 16, 'seek': 2800, 'start': 32.0, 'end': 34.0, 'text': ' 희 냄물이 말라버려서', 'tokens': [50564, 14473, 105, 26218, 2703, 11825, 1129, 31336, 9316, 24410, 40673, 50664], 'temperature': 0.0, 'avg_logprob': -0.37205253679727773, 'compression_ratio': 1.3932584269662922, 'no_speech_prob': 3.466979251243174e-05}, {'id': 17, 'seek': 2800, 'start': 34.0, 'end': 36.0, 'text': ' 물을 구할 수가 없었어요', 'tokens': [50664, 14403, 1638, 15197, 7999, 27345, 5711, 22415, 50764], 'temperature': 0.0, 'avg_logprob': -0.37205253679727773, 'compression_ratio': 1.3932584269662922, 'no_speech_prob': 3.466979251243174e-05}, {'id': 18, 'seek': 2800, 'start': 36.0, 'end': 38.0, 'text': ' 아', 'tokens': [50764, 2216, 50864], 'temperature': 0.0, 'avg_logprob': -0.37205253679727773, 'compression_ratio': 1.3932584269662922, 'no_speech_prob': 3.466979251243174e-05}, {'id': 19, 'seek': 2800, 'start': 38.0, 'end': 40.0, 'text': ' 목말라', 'tokens': [50864, 20433, 3468, 2998, 2742, 50964], 'temperature': 0.0, 'avg_logprob': -0.37205253679727773, 'compression_ratio': 1.3932584269662922, 'no_speech_prob': 3.466979251243174e-05}, {'id': 20, 'seek': 2800, 'start': 40.0, 'end': 42.0, 'text': ' 어디가 선물을 구한다', 'tokens': [50964, 20879, 1453, 44956, 1638, 15197, 36495, 51064], 'temperature': 0.0, 'avg_logprob': -0.37205253679727773, 'compression_ratio': 1.3932584269662922, 'no_speech_prob': 3.466979251243174e-05}, {'id': 21, 'seek': 2800, 'start': 42.0, 'end': 46.0, 'text': ' 한참 동안 해매던 까마귀는', 'tokens': [51064, 4815, 5786, 116, 32589, 11134, 100, 2990, 8092, 8394, 2457, 8667, 46862, 1098, 51264], 'temperature': 0.0, 'avg_logprob': -0.37205253679727773, 'compression_ratio': 1.3932584269662922, 'no_speech_prob': 3.466979251243174e-05}, {'id': 22, 'seek': 2800, 'start': 46.0, 'end': 48.0, 'text': ' 병을 하나 발견했어요', 'tokens': [51264, 32245, 1638, 12261, 13825, 34020, 31696, 51364], 'temperature': 0.0, 'avg_logprob': -0.37205253679727773, 'compression_ratio': 1.3932584269662922, 'no_speech_prob': 3.466979251243174e-05}, {'id': 23, 'seek': 2800, 'start': 48.0, 'end': 50.0, 'text': ' 아! 불편이다', 'tokens': [51364, 2216, 0, 16285, 25716, 22158, 51464], 'temperature': 0.0, 'avg_logprob': -0.37205253679727773, 'compression_ratio': 1.3932584269662922, 'no_speech_prob': 3.466979251243174e-05}, {'id': 24, 'seek': 2800, 'start': 50.0, 'end': 54.0, 'text': ' 까마귀는 깊어하며', 'tokens': [51464, 8394, 2457, 8667, 46862, 1098, 8394, 232, 3103, 8037, 18095, 51664], 'temperature': 0.0, 'avg_logprob': -0.37205253679727773, 'compression_ratio': 1.3932584269662922, 'no_speech_prob': 3.466979251243174e-05}, {'id': 25, 'seek': 2800, 'start': 54.0, 'end': 56.0, 'text': ' 불평소로', 'tokens': [51664, 16285, 13248, 231, 17921, 1955, 51764], 'temperature': 0.0, 'avg_logprob': -0.37205253679727773, 'compression_ratio': 1.3932584269662922, 'no_speech_prob': 3.466979251243174e-05}, {'id': 26, 'seek': 5600, 'start': 56.0, 'end': 58.0, 'text': ' 불평소로 불을 집어놨어요', 'tokens': [50364, 16285, 13248, 231, 17921, 1955, 16285, 1638, 12111, 6540, 228, 101, 4213, 50464], 'temperature': 0.6, 'avg_logprob': -0.3476290021623884, 'compression_ratio': 1.7142857142857142, 'no_speech_prob': 2.014480924117379e-05}, {'id': 27, 'seek': 5600, 'start': 58.0, 'end': 60.0, 'text': ' 물을 집어놨어요', 'tokens': [50464, 14403, 1638, 12111, 6540, 228, 101, 4213, 50564], 'temperature': 0.6, 'avg_logprob': -0.3476290021623884, 'compression_ratio': 1.7142857142857142, 'no_speech_prob': 2.014480924117379e-05}, {'id': 28, 'seek': 5600, 'start': 60.0, 'end': 62.0, 'text': ' 물을 집어놨어요', 'tokens': [50564, 14403, 1638, 12111, 6540, 228, 101, 4213, 50664], 'temperature': 0.6, 'avg_logprob': -0.3476290021623884, 'compression_ratio': 1.7142857142857142, 'no_speech_prob': 2.014480924117379e-05}, {'id': 29, 'seek': 5600, 'start': 62.0, 'end': 64.0, 'text': ' 물을 집어놨어요', 'tokens': [50664, 14403, 1638, 12111, 6540, 228, 101, 4213, 50764], 'temperature': 0.6, 'avg_logprob': -0.3476290021623884, 'compression_ratio': 1.7142857142857142, 'no_speech_prob': 2.014480924117379e-05}, {'id': 30, 'seek': 5600, 'start': 64.0, 'end': 66.0, 'text': ' 물을 집어놨어요', 'tokens': [50764, 14403, 1638, 12111, 6540, 228, 101, 4213, 50864], 'temperature': 0.6, 'avg_logprob': -0.3476290021623884, 'compression_ratio': 1.7142857142857142, 'no_speech_prob': 2.014480924117379e-05}, {'id': 31, 'seek': 5600, 'start': 66.0, 'end': 68.0, 'text': ' 그러나', 'tokens': [50864, 13725, 3404, 50964], 'temperature': 0.6, 'avg_logprob': -0.3476290021623884, 'compression_ratio': 1.7142857142857142, 'no_speech_prob': 2.014480924117379e-05}, {'id': 32, 'seek': 5600, 'start': 68.0, 'end': 70.0, 'text': ' 물이 병 밑바닥에', 'tokens': [50964, 14403, 1129, 32245, 37734, 47053, 36674, 1517, 51064], 'temperature': 0.6, 'avg_logprob': -0.3476290021623884, 'compression_ratio': 1.7142857142857142, 'no_speech_prob': 2.014480924117379e-05}, {'id': 33, 'seek': 5600, 'start': 70.0, 'end': 72.0, 'text': ' 조금밖에 없어서', 'tokens': [51064, 7430, 1600, 2196, 46902, 5711, 11315, 51164], 'temperature': 0.6, 'avg_logprob': -0.3476290021623884, 'compression_ratio': 1.7142857142857142, 'no_speech_prob': 2.014480924117379e-05}, {'id': 34, 'seek': 5600, 'start': 72.0, 'end': 74.0, 'text': ' 물이가 물까지 닫질 않았어요', 'tokens': [51164, 14403, 19556, 14403, 8786, 2515, 104, 18529, 29558, 4213, 51264], 'temperature': 0.6, 'avg_logprob': -0.3476290021623884, 'compression_ratio': 1.7142857142857142, 'no_speech_prob': 2.014480924117379e-05}, {'id': 35, 'seek': 5600, 'start': 74.0, 'end': 76.0, 'text': ' 겨우 찾아냄물인데', 'tokens': [51264, 2525, 101, 7812, 18283, 23733, 225, 2703, 11825, 13481, 51364], 'temperature': 0.6, 'avg_logprob': -0.3476290021623884, 'compression_ratio': 1.7142857142857142, 'no_speech_prob': 2.014480924117379e-05}, {'id': 36, 'seek': 5600, 'start': 76.0, 'end': 78.0, 'text': ' 맛있을 수가 없다니', 'tokens': [51364, 13441, 1638, 27345, 5711, 1235, 1425, 51464], 'temperature': 0.6, 'avg_logprob': -0.3476290021623884, 'compression_ratio': 1.7142857142857142, 'no_speech_prob': 2.014480924117379e-05}, {'id': 37, 'seek': 5600, 'start': 78.0, 'end': 82.0, 'text': ' 무슨 좋은 방법이 없을까', 'tokens': [51464, 22712, 16460, 31656, 1129, 5711, 1638, 3294, 51664], 'temperature': 0.6, 'avg_logprob': -0.3476290021623884, 'compression_ratio': 1.7142857142857142, 'no_speech_prob': 2.014480924117379e-05}, {'id': 38, 'seek': 5600, 'start': 82.0, 'end': 84.0, 'text': ' 자음념시', 'tokens': [51664, 5650, 36831, 227, 238, 3833, 51764], 'temperature': 0.6, 'avg_logprob': -0.3476290021623884, 'compression_ratio': 1.7142857142857142, 'no_speech_prob': 2.014480924117379e-05}, {'id': 39, 'seek': 8400, 'start': 84.0, 'end': 88.48, 'text': ' 그리를 겨우거리 던 감아기는 좋은 수가 떠올랐어요.', 'tokens': [50364, 2003, 18167, 2525, 101, 7812, 4261, 7078, 5596, 246, 10892, 2230, 23375, 16460, 4446, 1453, 43687, 3453, 1698, 15876, 4213, 13, 50588], 'temperature': 0.0, 'avg_logprob': -0.4573887150462081, 'compression_ratio': 1.3802083333333333, 'no_speech_prob': 0.031126249581575394}, {'id': 40, 'seek': 8400, 'start': 91.36, 'end': 95.6, 'text': ' 좋아! 그렇게 하면 물을 마실 수 있겠어!', 'tokens': [50732, 10805, 0, 16104, 17422, 14403, 1638, 6437, 8323, 4446, 2297, 36711, 0, 50944], 'temperature': 0.0, 'avg_logprob': -0.4573887150462081, 'compression_ratio': 1.3802083333333333, 'no_speech_prob': 0.031126249581575394}, {'id': 41, 'seek': 8400, 'start': 96.4, 'end': 100.24000000000001, 'text': ' 감아기는 작은 볼맹이들을 입에 물고 와서', 'tokens': [50984, 10892, 2230, 23375, 45870, 2818, 1870, 100, 117, 4250, 24968, 10051, 1517, 14403, 1313, 45783, 51176], 'temperature': 0.0, 'avg_logprob': -0.4573887150462081, 'compression_ratio': 1.3802083333333333, 'no_speech_prob': 0.031126249581575394}, {'id': 42, 'seek': 8400, 'start': 100.24000000000001, 'end': 103.03999999999999, 'text': ' 병속에 계속 집어넣었어요.', 'tokens': [51176, 32245, 11194, 1517, 17551, 12111, 6540, 226, 96, 22415, 13, 51316], 'temperature': 0.0, 'avg_logprob': -0.4573887150462081, 'compression_ratio': 1.3802083333333333, 'no_speech_prob': 0.031126249581575394}, {'id': 43, 'seek': 8400, 'start': 108.88, 'end': 112.72, 'text': ' 그러자 병속에 물이 점점 올라와서', 'tokens': [51608, 14019, 4264, 32245, 11194, 1517, 14403, 1129, 20060, 15046, 22327, 7590, 2393, 51800], 'temperature': 0.0, 'avg_logprob': -0.4573887150462081, 'compression_ratio': 1.3802083333333333, 'no_speech_prob': 0.031126249581575394}, {'id': 44, 'seek': 11272, 'start': 112.72, 'end': 114.72, 'text': ' 감아기에 불이까지 다 왔어요.', 'tokens': [50364, 10892, 2230, 36855, 16285, 1129, 8786, 4279, 17766, 4213, 13, 50464], 'temperature': 0.0, 'avg_logprob': -0.47618210483604756, 'compression_ratio': 1.3163841807909604, 'no_speech_prob': 0.00014202159945853055}, {'id': 45, 'seek': 11272, 'start': 118.16, 'end': 120.16, 'text': ' 이제 살았다!', 'tokens': [50636, 8424, 15482, 243, 246, 1235, 0, 50736], 'temperature': 0.0, 'avg_logprob': -0.47618210483604756, 'compression_ratio': 1.3163841807909604, 'no_speech_prob': 0.00014202159945853055}, {'id': 46, 'seek': 11272, 'start': 124.24, 'end': 129.2, 'text': ' 감아기는 시원하게 물을 마실 수 있었답니다.', 'tokens': [50940, 10892, 2230, 23375, 5710, 7573, 8601, 14403, 1638, 6437, 8323, 4446, 15972, 23884, 1972, 13, 51188], 'temperature': 0.0, 'avg_logprob': -0.47618210483604756, 'compression_ratio': 1.3163841807909604, 'no_speech_prob': 0.00014202159945853055}, {'id': 47, 'seek': 11272, 'start': 133.2, 'end': 136.4, 'text': ' 생주들이 사는 마을에 그연이가 나타난 이불에', 'tokens': [51388, 6439, 21163, 8109, 4744, 1098, 6437, 1638, 1517, 4296, 11557, 19556, 49406, 16662, 2892, 20026, 1517, 51548], 'temperature': 0.0, 'avg_logprob': -0.47618210483604756, 'compression_ratio': 1.3163841807909604, 'no_speech_prob': 0.00014202159945853055}, {'id': 48, 'seek': 11272, 'start': 136.4, 'end': 139.2, 'text': ' 생주들은 사로도 편한 말이 없었어요.', 'tokens': [51548, 6439, 21163, 22571, 6606, 1955, 3744, 16990, 3049, 44276, 5711, 22415, 13, 51688], 'temperature': 0.0, 'avg_logprob': -0.47618210483604756, 'compression_ratio': 1.3163841807909604, 'no_speech_prob': 0.00014202159945853055}, {'id': 49, 'seek': 13920, 'start': 139.2, 'end': 143.11999999999998, 'text': ' 참다 못한 생주들은 이 문제를 해결하기 위해', 'tokens': [50396, 18255, 1235, 10239, 3049, 6439, 21163, 22571, 2620, 13086, 48284, 11683, 23466, 22700, 31600, 50560], 'temperature': 0.0, 'avg_logprob': -0.5023670757518095, 'compression_ratio': 0.8450704225352113, 'no_speech_prob': 0.5022112727165222}], 'language': 'ko'}\n"
     ]
    }
   ],
   "source": [
    "print(result)"
   ]
  },
  {
   "cell_type": "code",
   "execution_count": 13,
   "id": "d7ef99fb",
   "metadata": {},
   "outputs": [],
   "source": [
    "device = \"cuda\" if torch.cuda.is_available() else \"cpu\""
   ]
  },
  {
   "cell_type": "code",
   "execution_count": 14,
   "id": "cc82d2fe",
   "metadata": {},
   "outputs": [],
   "source": [
    "mid_model = whisper.load_model(\"medium\", device=device)"
   ]
  },
  {
   "cell_type": "code",
   "execution_count": 15,
   "id": "c9d01ac3",
   "metadata": {},
   "outputs": [
    {
     "name": "stdout",
     "output_type": "stream",
     "text": [
      "cuda\n"
     ]
    }
   ],
   "source": [
    "print(device)"
   ]
  },
  {
   "cell_type": "code",
   "execution_count": 16,
   "id": "3e595312",
   "metadata": {},
   "outputs": [],
   "source": [
    "result = mid_model.transcribe(audio_path)"
   ]
  },
  {
   "cell_type": "code",
   "execution_count": null,
   "id": "e2ac9500",
   "metadata": {},
   "outputs": [
    {
     "name": "stdout",
     "output_type": "stream",
     "text": [
      "{'text': ' 핑크퐁 핑크퐁 지혜로운 까마귀 몹시 더운 여름날 한 까마귀가 물을 찾아다니고 있었어요. 그러나 시내물이 말라버려서 물을 구할 수가 없었어요. 아휴, 목말라. 어디 가서 물을 구한담? 한참 동안 헤매던 까마귀는 병을 하나 발견했어요. 이야, 물병이다! 까마귀는 기뻐하며 물병 속으로 두리를 집어 넣었어요. 까마귀는 물을 다 넣었어요. 그러나 물이 병 밑바닥에 조금밖에 없어서 부리가 물까지 닿지 않았어요. 겨우 찾아낸 물인데 마실 수가 없다니! 무슨 좋은 방법이 없을까? 잠시 머리를 갸웃거리던 까마귀는 좋은 수가 떠올랐어요. 좋아! 그렇게 하면 물을 마실 수 있겠어! 까마귀는 작은 돌멩이들을 입에 물고 와서 병 속에 계속 집어 넣었어요. 그러자 병 속에 물이 점점 올라와서 까마귀에 부리까지 닿았어요. 이제 살았다! 까마귀는 시원하게 물을 마실 수 있었답니다. 까마귀는 물에 물을 마실 수 있었습니다. 이제 살았다! 까마귀는 물에 물을 마실 수 있었습니다. 이제 살았다! 까마귀는 물에 물을 마실 수 있었습니다.', 'segments': [{'id': 0, 'seek': 0, 'start': 0.0, 'end': 2.0, 'text': ' 핑크퐁', 'tokens': [50364, 45549, 12504, 169, 238, 223, 50464], 'temperature': 0.0, 'avg_logprob': -0.37018802119236366, 'compression_ratio': 1.0526315789473684, 'no_speech_prob': 0.041908930987119675}, {'id': 1, 'seek': 0, 'start': 5.4, 'end': 7.4, 'text': ' 핑크퐁', 'tokens': [50634, 45549, 12504, 169, 238, 223, 50734], 'temperature': 0.0, 'avg_logprob': -0.37018802119236366, 'compression_ratio': 1.0526315789473684, 'no_speech_prob': 0.041908930987119675}, {'id': 2, 'seek': 0, 'start': 10.200000000000001, 'end': 12.200000000000001, 'text': ' 지혜로운 까마귀', 'tokens': [50874, 4704, 5262, 15636, 9996, 8394, 2457, 8667, 46862, 50974], 'temperature': 0.0, 'avg_logprob': -0.37018802119236366, 'compression_ratio': 1.0526315789473684, 'no_speech_prob': 0.041908930987119675}, {'id': 3, 'seek': 0, 'start': 20.2, 'end': 26.0, 'text': ' 몹시 더운 여름날 한 까마귀가 물을 찾아다니고 있었어요.', 'tokens': [51374, 3491, 117, 3833, 6990, 9996, 8228, 99, 2703, 24095, 4815, 8394, 2457, 8667, 46862, 1453, 14403, 1638, 33219, 1235, 1425, 1313, 15972, 4213, 13, 51664], 'temperature': 0.0, 'avg_logprob': -0.37018802119236366, 'compression_ratio': 1.0526315789473684, 'no_speech_prob': 0.041908930987119675}, {'id': 4, 'seek': 3000, 'start': 31.0, 'end': 37.0, 'text': ' 그러나 시내물이 말라버려서 물을 구할 수가 없었어요.', 'tokens': [50414, 13725, 3404, 24452, 224, 1327, 11825, 1129, 31336, 9316, 24410, 40673, 14403, 1638, 15197, 7999, 27345, 5711, 22415, 13, 50714], 'temperature': 0.0, 'avg_logprob': -0.1563225807027614, 'compression_ratio': 1.3980582524271845, 'no_speech_prob': 0.0015977470902726054}, {'id': 5, 'seek': 3000, 'start': 39.0, 'end': 43.0, 'text': ' 아휴, 목말라. 어디 가서 물을 구한담?', 'tokens': [50814, 2216, 38909, 112, 11, 20433, 3468, 2998, 2742, 13, 20879, 35312, 14403, 1638, 15197, 3049, 35021, 30, 51014], 'temperature': 0.0, 'avg_logprob': -0.1563225807027614, 'compression_ratio': 1.3980582524271845, 'no_speech_prob': 0.0015977470902726054}, {'id': 6, 'seek': 3000, 'start': 44.0, 'end': 49.0, 'text': ' 한참 동안 헤매던 까마귀는 병을 하나 발견했어요.', 'tokens': [51064, 4815, 5786, 116, 32589, 13431, 2990, 100, 2990, 8092, 8394, 2457, 8667, 46862, 1098, 32245, 1638, 12261, 13825, 34020, 31696, 13, 51314], 'temperature': 0.0, 'avg_logprob': -0.1563225807027614, 'compression_ratio': 1.3980582524271845, 'no_speech_prob': 0.0015977470902726054}, {'id': 7, 'seek': 3000, 'start': 50.0, 'end': 52.0, 'text': ' 이야, 물병이다!', 'tokens': [51364, 20510, 11, 26561, 44504, 22158, 0, 51464], 'temperature': 0.0, 'avg_logprob': -0.1563225807027614, 'compression_ratio': 1.3980582524271845, 'no_speech_prob': 0.0015977470902726054}, {'id': 8, 'seek': 3000, 'start': 54.0, 'end': 59.0, 'text': ' 까마귀는 기뻐하며 물병 속으로 두리를 집어 넣었어요.', 'tokens': [51564, 8394, 2457, 8667, 46862, 1098, 12503, 37191, 8037, 18095, 26561, 44504, 18663, 4130, 33940, 18167, 12111, 3103, 14948, 22415, 13, 51814], 'temperature': 0.0, 'avg_logprob': -0.1563225807027614, 'compression_ratio': 1.3980582524271845, 'no_speech_prob': 0.0015977470902726054}, {'id': 9, 'seek': 6000, 'start': 60.0, 'end': 63.0, 'text': ' 까마귀는 물을 다 넣었어요.', 'tokens': [50364, 8394, 2457, 8667, 46862, 1098, 14403, 1638, 4279, 14948, 22415, 13, 50514], 'temperature': 0.0, 'avg_logprob': -0.2715988794962565, 'compression_ratio': 1.371559633027523, 'no_speech_prob': 0.00029595097294077277}, {'id': 10, 'seek': 6000, 'start': 66.0, 'end': 73.0, 'text': ' 그러나 물이 병 밑바닥에 조금밖에 없어서 부리가 물까지 닿지 않았어요.', 'tokens': [50664, 13725, 3404, 14403, 1129, 32245, 37734, 47053, 36674, 1517, 7430, 1600, 2196, 46902, 5711, 11315, 10201, 27116, 14403, 8786, 2515, 123, 1831, 29558, 4213, 13, 51014], 'temperature': 0.0, 'avg_logprob': -0.2715988794962565, 'compression_ratio': 1.371559633027523, 'no_speech_prob': 0.00029595097294077277}, {'id': 11, 'seek': 6000, 'start': 75.0, 'end': 81.0, 'text': ' 겨우 찾아낸 물인데 마실 수가 없다니! 무슨 좋은 방법이 없을까?', 'tokens': [51114, 2525, 101, 7812, 33219, 8580, 116, 14403, 13481, 6437, 8323, 27345, 50174, 1425, 0, 22712, 16460, 31656, 1129, 5711, 1638, 3294, 30, 51414], 'temperature': 0.0, 'avg_logprob': -0.2715988794962565, 'compression_ratio': 1.371559633027523, 'no_speech_prob': 0.00029595097294077277}, {'id': 12, 'seek': 6000, 'start': 83.0, 'end': 88.0, 'text': ' 잠시 머리를 갸웃거리던 까마귀는 좋은 수가 떠올랐어요.', 'tokens': [51514, 15825, 3833, 37856, 18167, 1777, 116, 30668, 7325, 7134, 8092, 8394, 2457, 8667, 46862, 1098, 16460, 27345, 43687, 3453, 1698, 15876, 4213, 13, 51764], 'temperature': 0.0, 'avg_logprob': -0.2715988794962565, 'compression_ratio': 1.371559633027523, 'no_speech_prob': 0.00029595097294077277}, {'id': 13, 'seek': 9000, 'start': 91.0, 'end': 95.0, 'text': ' 좋아! 그렇게 하면 물을 마실 수 있겠어!', 'tokens': [50414, 10805, 0, 16104, 17422, 14403, 1638, 6437, 8323, 4446, 2297, 36711, 0, 50614], 'temperature': 0.0, 'avg_logprob': -0.07767119614974312, 'compression_ratio': 1.3389830508474576, 'no_speech_prob': 0.00010889577970374376}, {'id': 14, 'seek': 9000, 'start': 96.0, 'end': 103.0, 'text': ' 까마귀는 작은 돌멩이들을 입에 물고 와서 병 속에 계속 집어 넣었어요.', 'tokens': [50664, 8394, 2457, 8667, 46862, 1098, 45870, 34324, 102, 102, 4250, 24968, 10051, 1517, 14403, 1313, 45783, 32245, 18663, 1517, 17551, 12111, 3103, 14948, 22415, 13, 51014], 'temperature': 0.0, 'avg_logprob': -0.07767119614974312, 'compression_ratio': 1.3389830508474576, 'no_speech_prob': 0.00010889577970374376}, {'id': 15, 'seek': 9000, 'start': 108.0, 'end': 114.0, 'text': ' 그러자 병 속에 물이 점점 올라와서 까마귀에 부리까지 닿았어요.', 'tokens': [51264, 14019, 4264, 32245, 18663, 1517, 14403, 1129, 20060, 15046, 22327, 7590, 2393, 8394, 2457, 8667, 46862, 1517, 10201, 2250, 8786, 2515, 123, 36389, 13, 51564], 'temperature': 0.0, 'avg_logprob': -0.07767119614974312, 'compression_ratio': 1.3389830508474576, 'no_speech_prob': 0.00010889577970374376}, {'id': 16, 'seek': 11400, 'start': 114.0, 'end': 116.0, 'text': ' 이제 살았다!', 'tokens': [50364, 8424, 15482, 243, 246, 1235, 0, 50464], 'temperature': 0.0, 'avg_logprob': -0.14121784482683455, 'compression_ratio': 0.8764044943820225, 'no_speech_prob': 0.05339004844427109}, {'id': 17, 'seek': 11400, 'start': 120.0, 'end': 125.0, 'text': ' 까마귀는 시원하게 물을 마실 수 있었답니다.', 'tokens': [50664, 8394, 2457, 8667, 46862, 1098, 5710, 7573, 8601, 14403, 1638, 6437, 8323, 4446, 15972, 23884, 1972, 13, 50914], 'temperature': 0.0, 'avg_logprob': -0.14121784482683455, 'compression_ratio': 0.8764044943820225, 'no_speech_prob': 0.05339004844427109}, {'id': 18, 'seek': 14400, 'start': 145.0, 'end': 150.0, 'text': ' 까마귀는 물에 물을 마실 수 있었습니다.', 'tokens': [50414, 8394, 2457, 8667, 46862, 1098, 14403, 1517, 14403, 1638, 6437, 8323, 4446, 15972, 3115, 13, 50664], 'temperature': 0.0, 'avg_logprob': -0.6219161213308141, 'compression_ratio': 2.380952380952381, 'no_speech_prob': 0.7062630653381348}, {'id': 19, 'seek': 14400, 'start': 151.0, 'end': 153.0, 'text': ' 이제 살았다!', 'tokens': [50714, 8424, 15482, 243, 246, 1235, 0, 50814], 'temperature': 0.0, 'avg_logprob': -0.6219161213308141, 'compression_ratio': 2.380952380952381, 'no_speech_prob': 0.7062630653381348}, {'id': 20, 'seek': 14400, 'start': 154.0, 'end': 159.0, 'text': ' 까마귀는 물에 물을 마실 수 있었습니다.', 'tokens': [50864, 8394, 2457, 8667, 46862, 1098, 14403, 1517, 14403, 1638, 6437, 8323, 4446, 15972, 3115, 13, 51114], 'temperature': 0.0, 'avg_logprob': -0.6219161213308141, 'compression_ratio': 2.380952380952381, 'no_speech_prob': 0.7062630653381348}, {'id': 21, 'seek': 14400, 'start': 160.0, 'end': 162.0, 'text': ' 이제 살았다!', 'tokens': [51164, 8424, 15482, 243, 246, 1235, 0, 51264], 'temperature': 0.0, 'avg_logprob': -0.6219161213308141, 'compression_ratio': 2.380952380952381, 'no_speech_prob': 0.7062630653381348}, {'id': 22, 'seek': 14400, 'start': 163.0, 'end': 168.0, 'text': ' 까마귀는 물에 물을 마실 수 있었습니다.', 'tokens': [51314, 8394, 2457, 8667, 46862, 1098, 14403, 1517, 14403, 1638, 6437, 8323, 4446, 15972, 3115, 13, 51564], 'temperature': 0.0, 'avg_logprob': -0.6219161213308141, 'compression_ratio': 2.380952380952381, 'no_speech_prob': 0.7062630653381348}], 'language': 'ko'}\n"
     ]
    }
   ],
   "source": [
    "print(result['text'])"
   ]
  },
  {
   "cell_type": "code",
   "execution_count": 19,
   "id": "bcac4f0e",
   "metadata": {},
   "outputs": [
    {
     "name": "stderr",
     "output_type": "stream",
     "text": [
      "d:\\Anaconda\\envs\\POC_STT\\lib\\site-packages\\whisper\\__init__.py:150: FutureWarning: You are using `torch.load` with `weights_only=False` (the current default value), which uses the default pickle module implicitly. It is possible to construct malicious pickle data which will execute arbitrary code during unpickling (See https://github.com/pytorch/pytorch/blob/main/SECURITY.md#untrusted-models for more details). In a future release, the default value for `weights_only` will be flipped to `True`. This limits the functions that could be executed during unpickling. Arbitrary objects will no longer be allowed to be loaded via this mode unless they are explicitly allowlisted by the user via `torch.serialization.add_safe_globals`. We recommend you start setting `weights_only=True` for any use case where you don't have full control of the loaded file. Please open an issue on GitHub for any issues related to this experimental feature.\n",
      "  checkpoint = torch.load(fp, map_location=device)\n"
     ]
    }
   ],
   "source": [
    "small_model = whisper.load_model('small',device=device)"
   ]
  },
  {
   "cell_type": "code",
   "execution_count": 26,
   "id": "f09ebb4c",
   "metadata": {},
   "outputs": [],
   "source": [
    "result = small_model.transcribe(audio_path)"
   ]
  },
  {
   "cell_type": "code",
   "execution_count": 28,
   "id": "e5f18d8a",
   "metadata": {},
   "outputs": [
    {
     "name": "stdout",
     "output_type": "stream",
     "text": [
      " 핑크퐁 핑크퐁 지혜로운 까마귀 모없이 더운 여름날 한 까마귀가 물을 찾아다니고 있었어요 그러나 시냇물이 말라버려서 물을 구할 수가 없었어요 아, 목말라. 어디 가서 물을 구한담? 한참 동안 헤매던 까마귀는 병을 하나 발견했어요 야, 물병이다! 까마귀는 기뻐하며 물병 속으로 불이를 집어 넣었어요 물이 밖으로 바닥에 조금밖에 없어서 불이 물까지 닿지 않았어요 겨우 찾아낸 물인데 마실 수가 없다니. 무슨 좋은 방법이 없을까? 잠시 머리를 겨우 거리던 까마귀는 좋은 수가 떠올랐어요 좋아! 그렇게 하면 물을 마실 수 있겠어! 까마귀는 작은 돌멩이들을 입에 물고 와서 병속에 계속 집어 넣었어요 그러자 병속에 물이 점점 올라와서 까마귀에 불이까지 닿았어요 이제 살았다! 까마귀는 시원하게 물을 마실 수 있었답니다\n"
     ]
    }
   ],
   "source": [
    "print(result['text'])"
   ]
  },
  {
   "cell_type": "code",
   "execution_count": 24,
   "id": "20be010a",
   "metadata": {},
   "outputs": [],
   "source": [
    "del(mid_model,whisper_model)"
   ]
  },
  {
   "cell_type": "code",
   "execution_count": 25,
   "id": "587ba5e1",
   "metadata": {},
   "outputs": [],
   "source": [
    "torch.cuda.empty_cache()\n",
    "#gpu 메모리 삭제"
   ]
  }
 ],
 "metadata": {
  "kernelspec": {
   "display_name": "POC_STT",
   "language": "python",
   "name": "python3"
  },
  "language_info": {
   "codemirror_mode": {
    "name": "ipython",
    "version": 3
   },
   "file_extension": ".py",
   "mimetype": "text/x-python",
   "name": "python",
   "nbconvert_exporter": "python",
   "pygments_lexer": "ipython3",
   "version": "3.8.20"
  }
 },
 "nbformat": 4,
 "nbformat_minor": 5
}
