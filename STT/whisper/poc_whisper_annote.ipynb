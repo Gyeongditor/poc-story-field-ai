{
 "cells": [
  {
   "cell_type": "code",
   "execution_count": 1,
   "id": "79169a01",
   "metadata": {},
   "outputs": [
    {
     "name": "stderr",
     "output_type": "stream",
     "text": [
      "d:\\Anaconda\\envs\\POC_STT\\lib\\site-packages\\tqdm\\auto.py:21: TqdmWarning: IProgress not found. Please update jupyter and ipywidgets. See https://ipywidgets.readthedocs.io/en/stable/user_install.html\n",
      "  from .autonotebook import tqdm as notebook_tqdm\n"
     ]
    }
   ],
   "source": [
    "import whisper\n",
    "from pyannote.audio import Pipeline\n",
    "import os\n",
    "from dotenv import load_dotenv"
   ]
  },
  {
   "cell_type": "code",
   "execution_count": 12,
   "id": "f06a3349",
   "metadata": {},
   "outputs": [
    {
     "name": "stdout",
     "output_type": "stream",
     "text": [
      "cuda\n"
     ]
    }
   ],
   "source": [
    "import torch\n",
    "device = torch.device(\"cuda\" if torch.cuda.is_available() else \"cpu\")\n",
    "print(device)"
   ]
  },
  {
   "cell_type": "code",
   "execution_count": 3,
   "id": "46601c97",
   "metadata": {},
   "outputs": [],
   "source": [
    "load_dotenv()\n",
    "hf_token = os.getenv(\"HUG_PASS\")"
   ]
  },
  {
   "cell_type": "code",
   "execution_count": 4,
   "id": "1ce5615a",
   "metadata": {},
   "outputs": [],
   "source": [
    "os.environ[\"SPEECHBRAIN_LOCAL_FILE_STRATEGY\"] = \"copy\""
   ]
  },
  {
   "cell_type": "code",
   "execution_count": 10,
   "id": "bd736cf2",
   "metadata": {},
   "outputs": [
    {
     "name": "stderr",
     "output_type": "stream",
     "text": [
      "Lightning automatically upgraded your loaded checkpoint from v1.5.4 to v2.4.0. To apply the upgrade to your files permanently, run `python -m pytorch_lightning.utilities.upgrade_checkpoint C:\\Users\\diabl\\.cache\\torch\\pyannote\\models--pyannote--segmentation\\snapshots\\c4c8ceafcbb3a7a280c2d357aee9fbc9b0be7f9b\\pytorch_model.bin`\n"
     ]
    },
    {
     "name": "stdout",
     "output_type": "stream",
     "text": [
      "Model was trained with pyannote.audio 0.0.1, yours is 3.3.0. Bad things might happen unless you revert pyannote.audio to 0.x.\n",
      "Model was trained with torch 1.10.0+cu102, yours is 2.4.1+cu121. Bad things might happen unless you revert torch to 1.x.\n"
     ]
    },
    {
     "name": "stderr",
     "output_type": "stream",
     "text": [
      "d:\\Anaconda\\envs\\POC_STT\\lib\\site-packages\\speechbrain\\utils\\parameter_transfer.py:234: UserWarning: Requested Pretrainer collection using symlinks on Windows. This might not work; see `LocalStrategy` documentation. Consider unsetting `collect_in` in Pretrainer to avoid symlinking altogether.\n",
      "  warnings.warn(\n",
      "d:\\Anaconda\\envs\\POC_STT\\lib\\site-packages\\speechbrain\\utils\\checkpoints.py:200: FutureWarning: You are using `torch.load` with `weights_only=False` (the current default value), which uses the default pickle module implicitly. It is possible to construct malicious pickle data which will execute arbitrary code during unpickling (See https://github.com/pytorch/pytorch/blob/main/SECURITY.md#untrusted-models for more details). In a future release, the default value for `weights_only` will be flipped to `True`. This limits the functions that could be executed during unpickling. Arbitrary objects will no longer be allowed to be loaded via this mode unless they are explicitly allowlisted by the user via `torch.serialization.add_safe_globals`. We recommend you start setting `weights_only=True` for any use case where you don't have full control of the loaded file. Please open an issue on GitHub for any issues related to this experimental feature.\n",
      "  state_dict = torch.load(path, map_location=device)\n",
      "d:\\Anaconda\\envs\\POC_STT\\lib\\site-packages\\speechbrain\\processing\\features.py:1529: FutureWarning: You are using `torch.load` with `weights_only=False` (the current default value), which uses the default pickle module implicitly. It is possible to construct malicious pickle data which will execute arbitrary code during unpickling (See https://github.com/pytorch/pytorch/blob/main/SECURITY.md#untrusted-models for more details). In a future release, the default value for `weights_only` will be flipped to `True`. This limits the functions that could be executed during unpickling. Arbitrary objects will no longer be allowed to be loaded via this mode unless they are explicitly allowlisted by the user via `torch.serialization.add_safe_globals`. We recommend you start setting `weights_only=True` for any use case where you don't have full control of the loaded file. Please open an issue on GitHub for any issues related to this experimental feature.\n",
      "  stats = torch.load(path, map_location=device)\n"
     ]
    }
   ],
   "source": [
    "pipeline = Pipeline.from_pretrained(\"pyannote/speaker-diarization\",\n",
    "                                    use_auth_token=hf_token)"
   ]
  },
  {
   "cell_type": "code",
   "execution_count": 14,
   "id": "5ca1f305",
   "metadata": {},
   "outputs": [
    {
     "data": {
      "text/plain": [
       "<pyannote.audio.pipelines.speaker_diarization.SpeakerDiarization at 0x25b70e19940>"
      ]
     },
     "execution_count": 14,
     "metadata": {},
     "output_type": "execute_result"
    }
   ],
   "source": [
    "pipeline.to(device)"
   ]
  },
  {
   "cell_type": "code",
   "execution_count": 16,
   "id": "da4ad79f",
   "metadata": {},
   "outputs": [
    {
     "name": "stderr",
     "output_type": "stream",
     "text": [
      "d:\\Anaconda\\envs\\POC_STT\\lib\\site-packages\\pyannote\\audio\\utils\\reproducibility.py:74: ReproducibilityWarning: TensorFloat-32 (TF32) has been disabled as it might lead to reproducibility issues and lower accuracy.\n",
      "It can be re-enabled by calling\n",
      "   >>> import torch\n",
      "   >>> torch.backends.cuda.matmul.allow_tf32 = True\n",
      "   >>> torch.backends.cudnn.allow_tf32 = True\n",
      "See https://github.com/pyannote/pyannote-audio/issues/1370 for more details.\n",
      "\n",
      "  warnings.warn(\n"
     ]
    }
   ],
   "source": [
    "diarization = pipeline(\"./test_data/travel_test.wav\")"
   ]
  },
  {
   "cell_type": "code",
   "execution_count": 17,
   "id": "038ddd2f",
   "metadata": {},
   "outputs": [
    {
     "name": "stdout",
     "output_type": "stream",
     "text": [
      "[ 00:00:00.030 -->  00:00:12.839] A SPEAKER_02\n",
      "[ 00:00:01.532 -->  00:00:01.819] B SPEAKER_00\n",
      "[ 00:00:15.218 -->  00:00:17.024] C SPEAKER_02\n",
      "[ 00:00:17.024 -->  00:00:17.884] D SPEAKER_00\n",
      "[ 00:00:18.002 -->  00:00:18.340] E SPEAKER_01\n",
      "[ 00:00:18.745 -->  00:00:24.212] F SPEAKER_00\n",
      "[ 00:00:22.002 -->  00:00:22.373] G SPEAKER_01\n",
      "[ 00:00:24.735 -->  00:00:25.664] H SPEAKER_01\n",
      "[ 00:00:24.870 -->  00:00:27.115] I SPEAKER_00\n",
      "[ 00:00:27.992 -->  00:00:31.384] J SPEAKER_00\n",
      "[ 00:00:31.519 -->  00:00:31.975] K SPEAKER_02\n",
      "[ 00:00:32.144 -->  00:00:37.999] L SPEAKER_00\n",
      "[ 00:00:38.640 -->  00:00:47.922] M SPEAKER_00\n",
      "[ 00:00:39.029 -->  00:00:39.467] N SPEAKER_02\n",
      "[ 00:00:40.446 -->  00:00:40.598] O SPEAKER_02\n",
      "[ 00:00:45.374 -->  00:00:45.711] P SPEAKER_01\n",
      "[ 00:00:48.344 -->  00:00:49.255] Q SPEAKER_01\n",
      "[ 00:00:49.019 -->  00:00:51.162] R SPEAKER_00\n",
      "[ 00:00:51.955 -->  00:01:01.658] S SPEAKER_00\n",
      "[ 00:01:01.860 -->  00:01:02.333] T SPEAKER_01\n",
      "[ 00:01:02.299 -->  00:01:24.557] U SPEAKER_00\n",
      "[ 00:01:14.399 -->  00:01:14.685] V SPEAKER_01\n",
      "[ 00:01:17.723 -->  00:01:17.942] W SPEAKER_01\n",
      "[ 00:01:21.469 -->  00:01:21.537] X SPEAKER_02\n",
      "[ 00:01:24.810 -->  00:01:25.654] Y SPEAKER_01\n",
      "[ 00:01:25.604 -->  00:01:27.696] Z SPEAKER_00\n",
      "[ 00:01:27.915 -->  00:01:28.337] AA SPEAKER_01\n",
      "[ 00:01:28.337 -->  00:01:50.781] AB SPEAKER_00\n",
      "[ 00:01:37.315 -->  00:01:37.534] AC SPEAKER_01\n",
      "[ 00:01:51.878 -->  00:02:05.530] AD SPEAKER_00\n",
      "[ 00:01:54.966 -->  00:01:55.523] AE SPEAKER_01\n",
      "[ 00:02:05.969 -->  00:02:07.369] AF SPEAKER_01\n",
      "[ 00:02:06.694 -->  00:02:17.106] AG SPEAKER_00\n",
      "[ 00:02:14.997 -->  00:02:15.334] AH SPEAKER_01\n",
      "[ 00:02:17.528 -->  00:02:17.798] AI SPEAKER_01\n",
      "[ 00:02:17.798 -->  00:02:41.828] AJ SPEAKER_00\n",
      "[ 00:02:23.856 -->  00:02:24.025] AK SPEAKER_01\n",
      "[ 00:02:25.864 -->  00:02:26.387] AL SPEAKER_01\n",
      "[ 00:02:30.471 -->  00:02:30.488] AM SPEAKER_01\n",
      "[ 00:02:42.014 -->  00:02:42.705] AN SPEAKER_02\n",
      "[ 00:02:42.705 -->  00:02:44.933] AO SPEAKER_00\n",
      "[ 00:02:45.254 -->  00:02:45.625] AP SPEAKER_01\n",
      "[ 00:02:45.844 -->  00:02:51.329] AQ SPEAKER_00\n",
      "[ 00:02:52.020 -->  00:02:54.164] AR SPEAKER_00\n",
      "[ 00:02:54.788 -->  00:03:03.090] AS SPEAKER_00\n",
      "[ 00:03:04.170 -->  00:03:07.124] AT SPEAKER_00\n",
      "[ 00:03:07.478 -->  00:03:08.220] AU SPEAKER_02\n",
      "[ 00:03:07.799 -->  00:03:09.402] AV SPEAKER_00\n",
      "[ 00:03:09.722 -->  00:03:10.566] AW SPEAKER_02\n",
      "[ 00:03:10.566 -->  00:03:18.497] AX SPEAKER_00\n",
      "[ 00:03:18.683 -->  00:03:19.155] AY SPEAKER_02\n",
      "[ 00:03:19.155 -->  00:03:22.682] AZ SPEAKER_00\n",
      "[ 00:03:23.020 -->  00:03:23.340] BA SPEAKER_01\n",
      "[ 00:03:23.340 -->  00:03:36.672] BB SPEAKER_00\n",
      "[ 00:03:28.420 -->  00:03:28.943] BC SPEAKER_01\n",
      "[ 00:03:36.942 -->  00:03:37.330] BD SPEAKER_01\n",
      "[ 00:03:37.313 -->  00:03:49.480] BE SPEAKER_00\n",
      "[ 00:03:40.199 -->  00:03:40.755] BF SPEAKER_01\n",
      "[ 00:03:50.172 -->  00:03:52.129] BG SPEAKER_00\n",
      "[ 00:03:52.534 -->  00:03:53.766] BH SPEAKER_02\n",
      "[ 00:03:53.530 -->  00:04:23.753] BI SPEAKER_00\n",
      "[ 00:03:55.454 -->  00:03:55.707] BJ SPEAKER_01\n",
      "[ 00:04:01.562 -->  00:04:02.237] BK SPEAKER_01\n",
      "[ 00:04:03.638 -->  00:04:04.043] BL SPEAKER_01\n",
      "[ 00:04:11.873 -->  00:04:12.514] BM SPEAKER_02\n",
      "[ 00:04:11.890 -->  00:04:12.531] BN SPEAKER_01\n",
      "[ 00:04:18.775 -->  00:04:19.484] BO SPEAKER_01\n",
      "[ 00:04:23.972 -->  00:04:24.900] BP SPEAKER_01\n",
      "[ 00:04:24.495 -->  00:04:29.204] BQ SPEAKER_00\n",
      "[ 00:04:29.490 -->  00:04:30.064] BR SPEAKER_01\n",
      "[ 00:04:29.811 -->  00:04:33.962] BS SPEAKER_00\n",
      "[ 00:04:34.064 -->  00:04:35.160] BT SPEAKER_01\n",
      "[ 00:04:34.637 -->  00:04:41.910] BU SPEAKER_00\n",
      "[ 00:04:42.265 -->  00:04:45.471] BV SPEAKER_02\n",
      "[ 00:04:45.117 -->  00:04:50.280] BW SPEAKER_00\n",
      "[ 00:04:49.639 -->  00:04:50.770] BX SPEAKER_02\n",
      "[ 00:04:51.124 -->  00:05:03.274] BY SPEAKER_00\n",
      "[ 00:04:53.824 -->  00:04:54.972] BZ SPEAKER_01\n",
      "[ 00:05:01.519 -->  00:05:04.455] CA SPEAKER_02\n",
      "[ 00:05:04.034 -->  00:05:10.497] CB SPEAKER_00\n",
      "[ 00:05:06.885 -->  00:05:07.544] CC SPEAKER_01\n",
      "[ 00:05:11.307 -->  00:05:16.538] CD SPEAKER_02\n",
      "[ 00:05:11.459 -->  00:05:13.079] CE SPEAKER_00\n",
      "[ 00:05:15.104 -->  00:05:39.977] CF SPEAKER_00\n",
      "[ 00:05:20.537 -->  00:05:21.027] CG SPEAKER_01\n",
      "[ 00:05:24.756 -->  00:05:25.026] CH SPEAKER_01\n",
      "[ 00:05:27.625 -->  00:05:28.131] CI SPEAKER_01\n",
      "[ 00:05:30.426 -->  00:05:30.477] CJ SPEAKER_02\n",
      "[ 00:05:33.582 -->  00:05:35.320] CK SPEAKER_02\n",
      "[ 00:05:38.897 -->  00:05:51.908] CL SPEAKER_02\n",
      "[ 00:05:39.977 -->  00:05:40.332] CM SPEAKER_01\n",
      "[ 00:05:46.559 -->  00:05:47.976] CN SPEAKER_01\n",
      "[ 00:05:49.917 -->  00:05:57.983] CO SPEAKER_00\n",
      "[ 00:05:54.456 -->  00:05:54.473] CP SPEAKER_02\n",
      "[ 00:05:55.300 -->  00:05:55.688] CQ SPEAKER_02\n",
      "[ 00:05:57.291 -->  00:05:57.932] CR SPEAKER_01\n"
     ]
    }
   ],
   "source": [
    "print(diarization)"
   ]
  },
  {
   "cell_type": "code",
   "execution_count": 25,
   "id": "b94bf3e7",
   "metadata": {},
   "outputs": [],
   "source": [
    "torch.cuda.empty_cache()"
   ]
  }
 ],
 "metadata": {
  "kernelspec": {
   "display_name": "POC_STT",
   "language": "python",
   "name": "python3"
  },
  "language_info": {
   "codemirror_mode": {
    "name": "ipython",
    "version": 3
   },
   "file_extension": ".py",
   "mimetype": "text/x-python",
   "name": "python",
   "nbconvert_exporter": "python",
   "pygments_lexer": "ipython3",
   "version": "3.8.20"
  }
 },
 "nbformat": 4,
 "nbformat_minor": 5
}
