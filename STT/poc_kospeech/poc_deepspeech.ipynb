{
 "cells": [
  {
   "cell_type": "code",
   "execution_count": 3,
   "id": "3dc00c93",
   "metadata": {},
   "outputs": [],
   "source": [
    "import os\n",
    "import torch\n",
    "import torchaudio\n",
    "from kospeech.models.deepspeech2.model import DeepSpeech2\n",
    "from kospeech.vocabs.ksponspeech import KsponSpeechVocabulary\n",
    "from kospeech.data.audio.parser import SpectrogramParser"
   ]
  },
  {
   "cell_type": "code",
   "execution_count": 4,
   "id": "88cb719c",
   "metadata": {},
   "outputs": [],
   "source": [
    "# 1. 하이퍼파라미터 및 경로 설정\n",
    "sample_rate = 16000\n",
    "n_mels = 80\n",
    "frame_length = 20\n",
    "frame_shift = 10\n",
    "max_length = 512"
   ]
  },
  {
   "cell_type": "code",
   "execution_count": 7,
   "id": "6d617f27",
   "metadata": {},
   "outputs": [
    {
     "ename": "OSError",
     "evalue": "Character label file (csv format) doesn`t exist : c:\\Users\\chane\\Desktop\\POC-AI\\STT\\poc_kospeech\\assets\\kspon_vocab.txt",
     "output_type": "error",
     "traceback": [
      "\u001b[1;31m---------------------------------------------------------------------------\u001b[0m",
      "\u001b[1;31mFileNotFoundError\u001b[0m                         Traceback (most recent call last)",
      "File \u001b[1;32mc:\\Users\\chane\\Desktop\\POC-AI\\STT\\poc_kospeech\\kospeech\\vocabs\\ksponspeech.py:112\u001b[0m, in \u001b[0;36mKsponSpeechVocabulary.load_vocab\u001b[1;34m(self, label_path, encoding)\u001b[0m\n\u001b[0;32m    111\u001b[0m \u001b[38;5;28;01mtry\u001b[39;00m:\n\u001b[1;32m--> 112\u001b[0m     \u001b[38;5;28;01mwith\u001b[39;00m \u001b[38;5;28;43mopen\u001b[39;49m\u001b[43m(\u001b[49m\u001b[43mlabel_path\u001b[49m\u001b[43m,\u001b[49m\u001b[43m \u001b[49m\u001b[38;5;124;43m'\u001b[39;49m\u001b[38;5;124;43mr\u001b[39;49m\u001b[38;5;124;43m'\u001b[39;49m\u001b[43m,\u001b[49m\u001b[43m \u001b[49m\u001b[43mencoding\u001b[49m\u001b[38;5;241;43m=\u001b[39;49m\u001b[43mencoding\u001b[49m\u001b[43m)\u001b[49m \u001b[38;5;28;01mas\u001b[39;00m f:\n\u001b[0;32m    113\u001b[0m         labels \u001b[38;5;241m=\u001b[39m csv\u001b[38;5;241m.\u001b[39mreader(f, delimiter\u001b[38;5;241m=\u001b[39m\u001b[38;5;124m'\u001b[39m\u001b[38;5;124m,\u001b[39m\u001b[38;5;124m'\u001b[39m)\n",
      "\u001b[1;31mFileNotFoundError\u001b[0m: [Errno 2] No such file or directory: 'c:\\\\Users\\\\chane\\\\Desktop\\\\POC-AI\\\\STT\\\\poc_kospeech\\\\assets\\\\kspon_vocab.txt'",
      "\nDuring handling of the above exception, another exception occurred:\n",
      "\u001b[1;31mOSError\u001b[0m                                   Traceback (most recent call last)",
      "Cell \u001b[1;32mIn[7], line 2\u001b[0m\n\u001b[0;32m      1\u001b[0m \u001b[38;5;66;03m# 2. Vocabulary 및 Parser 준비\u001b[39;00m\n\u001b[1;32m----> 2\u001b[0m vocab \u001b[38;5;241m=\u001b[39m \u001b[43mKsponSpeechVocabulary\u001b[49m\u001b[43m(\u001b[49m\u001b[38;5;124;43mr\u001b[39;49m\u001b[38;5;124;43m'\u001b[39;49m\u001b[38;5;124;43mc:\u001b[39;49m\u001b[38;5;124;43m\\\u001b[39;49m\u001b[38;5;124;43mUsers\u001b[39;49m\u001b[38;5;124;43m\\\u001b[39;49m\u001b[38;5;124;43mchane\u001b[39;49m\u001b[38;5;124;43m\\\u001b[39;49m\u001b[38;5;124;43mDesktop\u001b[39;49m\u001b[38;5;124;43m\\\u001b[39;49m\u001b[38;5;124;43mPOC-AI\u001b[39;49m\u001b[38;5;124;43m\\\u001b[39;49m\u001b[38;5;124;43mSTT\u001b[39;49m\u001b[38;5;124;43m\\\u001b[39;49m\u001b[38;5;124;43mpoc_kospeech\u001b[39;49m\u001b[38;5;124;43m\\\u001b[39;49m\u001b[38;5;124;43massets\u001b[39;49m\u001b[38;5;124;43m\\\u001b[39;49m\u001b[38;5;124;43mkspon_vocab.txt\u001b[39;49m\u001b[38;5;124;43m'\u001b[39;49m\u001b[43m)\u001b[49m\n\u001b[0;32m      3\u001b[0m parser \u001b[38;5;241m=\u001b[39m SpectrogramParser(\n\u001b[0;32m      4\u001b[0m     audio_extension\u001b[38;5;241m=\u001b[39m\u001b[38;5;124m'\u001b[39m\u001b[38;5;124mwav\u001b[39m\u001b[38;5;124m'\u001b[39m,\n\u001b[0;32m      5\u001b[0m     sample_rate\u001b[38;5;241m=\u001b[39msample_rate,\n\u001b[1;32m   (...)\u001b[0m\n\u001b[0;32m      9\u001b[0m     normalize\u001b[38;5;241m=\u001b[39m\u001b[38;5;28;01mTrue\u001b[39;00m\n\u001b[0;32m     10\u001b[0m )\n",
      "File \u001b[1;32mc:\\Users\\chane\\Desktop\\POC-AI\\STT\\poc_kospeech\\kospeech\\vocabs\\ksponspeech.py:32\u001b[0m, in \u001b[0;36mKsponSpeechVocabulary.__init__\u001b[1;34m(self, vocab_path, output_unit, sp_model_path)\u001b[0m\n\u001b[0;32m     30\u001b[0m     \u001b[38;5;28mself\u001b[39m\u001b[38;5;241m.\u001b[39mblank_id \u001b[38;5;241m=\u001b[39m \u001b[38;5;28mlen\u001b[39m(\u001b[38;5;28mself\u001b[39m)\n\u001b[0;32m     31\u001b[0m \u001b[38;5;28;01melse\u001b[39;00m:\n\u001b[1;32m---> 32\u001b[0m     \u001b[38;5;28mself\u001b[39m\u001b[38;5;241m.\u001b[39mvocab_dict, \u001b[38;5;28mself\u001b[39m\u001b[38;5;241m.\u001b[39mid_dict \u001b[38;5;241m=\u001b[39m \u001b[38;5;28;43mself\u001b[39;49m\u001b[38;5;241;43m.\u001b[39;49m\u001b[43mload_vocab\u001b[49m\u001b[43m(\u001b[49m\u001b[43mvocab_path\u001b[49m\u001b[43m,\u001b[49m\u001b[43m \u001b[49m\u001b[43mencoding\u001b[49m\u001b[38;5;241;43m=\u001b[39;49m\u001b[38;5;124;43m'\u001b[39;49m\u001b[38;5;124;43mutf-8\u001b[39;49m\u001b[38;5;124;43m'\u001b[39;49m\u001b[43m)\u001b[49m\n\u001b[0;32m     33\u001b[0m     \u001b[38;5;28mself\u001b[39m\u001b[38;5;241m.\u001b[39msos_id \u001b[38;5;241m=\u001b[39m \u001b[38;5;28mint\u001b[39m(\u001b[38;5;28mself\u001b[39m\u001b[38;5;241m.\u001b[39mvocab_dict[\u001b[38;5;124m'\u001b[39m\u001b[38;5;124m<sos>\u001b[39m\u001b[38;5;124m'\u001b[39m])\n\u001b[0;32m     34\u001b[0m     \u001b[38;5;28mself\u001b[39m\u001b[38;5;241m.\u001b[39meos_id \u001b[38;5;241m=\u001b[39m \u001b[38;5;28mint\u001b[39m(\u001b[38;5;28mself\u001b[39m\u001b[38;5;241m.\u001b[39mvocab_dict[\u001b[38;5;124m'\u001b[39m\u001b[38;5;124m<eos>\u001b[39m\u001b[38;5;124m'\u001b[39m])\n",
      "File \u001b[1;32mc:\\Users\\chane\\Desktop\\POC-AI\\STT\\poc_kospeech\\kospeech\\vocabs\\ksponspeech.py:125\u001b[0m, in \u001b[0;36mKsponSpeechVocabulary.load_vocab\u001b[1;34m(self, label_path, encoding)\u001b[0m\n\u001b[0;32m    123\u001b[0m     \u001b[38;5;28;01mreturn\u001b[39;00m unit2id, id2unit\n\u001b[0;32m    124\u001b[0m \u001b[38;5;28;01mexcept\u001b[39;00m \u001b[38;5;167;01mIOError\u001b[39;00m:\n\u001b[1;32m--> 125\u001b[0m     \u001b[38;5;28;01mraise\u001b[39;00m \u001b[38;5;167;01mIOError\u001b[39;00m(\u001b[38;5;124m\"\u001b[39m\u001b[38;5;124mCharacter label file (csv format) doesn`t exist : \u001b[39m\u001b[38;5;132;01m{0}\u001b[39;00m\u001b[38;5;124m\"\u001b[39m\u001b[38;5;241m.\u001b[39mformat(label_path))\n",
      "\u001b[1;31mOSError\u001b[0m: Character label file (csv format) doesn`t exist : c:\\Users\\chane\\Desktop\\POC-AI\\STT\\poc_kospeech\\assets\\kspon_vocab.txt"
     ]
    }
   ],
   "source": [
    "# 2. Vocabulary 및 Parser 준비\n",
    "vocab = KsponSpeechVocabulary(r'c:\\Users\\chane\\Desktop\\POC-AI\\STT\\poc_kospeech\\assets\\kspon_vocab.txt')\n",
    "parser = SpectrogramParser(\n",
    "    audio_extension='wav',\n",
    "    sample_rate=sample_rate,\n",
    "    n_mels=n_mels,\n",
    "    frame_length=frame_length,\n",
    "    frame_shift=frame_shift,\n",
    "    normalize=True\n",
    ")"
   ]
  }
 ],
 "metadata": {
  "kernelspec": {
   "display_name": "POC_STT",
   "language": "python",
   "name": "python3"
  },
  "language_info": {
   "codemirror_mode": {
    "name": "ipython",
    "version": 3
   },
   "file_extension": ".py",
   "mimetype": "text/x-python",
   "name": "python",
   "nbconvert_exporter": "python",
   "pygments_lexer": "ipython3",
   "version": "3.8.0"
  }
 },
 "nbformat": 4,
 "nbformat_minor": 5
}
