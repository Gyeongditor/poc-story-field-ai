{
 "cells": [
  {
   "cell_type": "code",
   "execution_count": 4,
   "id": "7b6d38b9",
   "metadata": {},
   "outputs": [],
   "source": [
    "import os\n",
    "import dotenv\n",
    "from openai import OpenAI\n",
    "import tiktoken\n",
    "import textwrap"
   ]
  },
  {
   "cell_type": "code",
   "execution_count": 5,
   "id": "ffdbfae8",
   "metadata": {},
   "outputs": [],
   "source": [
    "dotenv.load_dotenv()\n",
    "password = os.getenv('GPT_API_KEY')\n",
    "#print(password)\n",
    "client = OpenAI(api_key=password)"
   ]
  },
  {
   "cell_type": "code",
   "execution_count": 6,
   "id": "31a33151",
   "metadata": {},
   "outputs": [],
   "source": [
    "def split_text_by_token(text, max_tokens=1500):\n",
    "    enc = tiktoken.encoding_for_model(\"gpt-3.5-turbo\")\n",
    "    sentences = text.split(\". \")\n",
    "    chunks = []\n",
    "    current_chunk = \"\"\n",
    "    current_tokens = 0\n",
    "\n",
    "    for sentence in sentences:\n",
    "        tokens = len(enc.encode(sentence))\n",
    "        if current_tokens + tokens > max_tokens:\n",
    "            chunks.append(current_chunk.strip())\n",
    "            current_chunk = sentence + \". \"\n",
    "            current_tokens = tokens\n",
    "        else:\n",
    "            current_chunk += sentence + \". \"\n",
    "            current_tokens += tokens\n",
    "\n",
    "    if current_chunk:\n",
    "        chunks.append(current_chunk.strip())\n",
    "\n",
    "    return chunks"
   ]
  },
  {
   "cell_type": "code",
   "execution_count": 7,
   "id": "e62f4c8e",
   "metadata": {},
   "outputs": [],
   "source": [
    "def convert_to_formal(text_chunk):\n",
    "    prompt = f\"\"\"\n",
    "다음 구어체 텍스트를 자연스럽고 일관된 문어체로 바꿔주세요. 단어 선택, 문장 구조, 연결성을 고려해 정제된 문장으로 바꿔주세요.\n",
    "'어','음' 같은 구어체 표현을 제거하고, 어색한 단어는 유추해서 변경해주세요.\n",
    "\n",
    "구어체:\n",
    "{text_chunk}\n",
    "\n",
    "문어체:\n",
    "\"\"\"\n",
    "\n",
    "    response = client.chat.completions.create(\n",
    "        model=\"gpt-3.5-turbo\",\n",
    "        messages=[\n",
    "            {\"role\": \"system\", \"content\": \"너는 한국어 문장을 구어체에서 문어체로 바꿔주는 도우미야.\"},\n",
    "            {\"role\": \"user\", \"content\": prompt}\n",
    "        ],\n",
    "        temperature=0.4,\n",
    "        max_tokens=1024\n",
    "    )\n",
    "\n",
    "    return response.choices[0].message.content.strip()"
   ]
  },
  {
   "cell_type": "code",
   "execution_count": 8,
   "id": "e3a51c77",
   "metadata": {},
   "outputs": [],
   "source": [
    "def process_travel_text():\n",
    "    with open(\"travel_test.txt\", \"r\", encoding=\"utf-8\") as f:\n",
    "        raw_text = f.read()\n",
    "\n",
    "    chunks = split_text_by_token(raw_text, max_tokens=1500)\n",
    "\n",
    "    formal_results = []\n",
    "    for i, chunk in enumerate(chunks):\n",
    "        print(f\"[{i+1}/{len(chunks)}] 변환 중...\")\n",
    "        try:\n",
    "            formal_text = convert_to_formal(chunk)\n",
    "            formal_results.append(formal_text)\n",
    "        except Exception as e:\n",
    "            print(f\"에러 발생 (chunk {i+1}): {e}\")\n",
    "            formal_results.append(\"[변환 실패한 구간]\")\n",
    "\n",
    "    full_formal_text = \"\\n\\n\".join(formal_results)\n",
    "\n",
    "    with open(\"travel_test_formal.txt\", \"w\", encoding=\"utf-8\") as f:\n",
    "        f.write(full_formal_text)"
   ]
  },
  {
   "cell_type": "code",
   "execution_count": 9,
   "id": "ef38eb3d",
   "metadata": {},
   "outputs": [
    {
     "name": "stdout",
     "output_type": "stream",
     "text": [
      "[1/2] 변환 중...\n",
      "[2/2] 변환 중...\n"
     ]
    }
   ],
   "source": [
    "if __name__ == \"__main__\":\n",
    "    process_travel_text()"
   ]
  }
 ],
 "metadata": {
  "kernelspec": {
   "display_name": "POC_STT",
   "language": "python",
   "name": "python3"
  },
  "language_info": {
   "codemirror_mode": {
    "name": "ipython",
    "version": 3
   },
   "file_extension": ".py",
   "mimetype": "text/x-python",
   "name": "python",
   "nbconvert_exporter": "python",
   "pygments_lexer": "ipython3",
   "version": "3.8.20"
  }
 },
 "nbformat": 4,
 "nbformat_minor": 5
}
