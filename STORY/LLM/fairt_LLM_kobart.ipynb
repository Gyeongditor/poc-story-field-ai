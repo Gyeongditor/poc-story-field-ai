{
 "cells": [
  {
   "cell_type": "code",
   "execution_count": 22,
   "id": "a82b1f40",
   "metadata": {},
   "outputs": [],
   "source": [
    "import torch\n",
    "from transformers import PreTrainedTokenizerFast, BartForConditionalGeneration\n",
    "from typing import List"
   ]
  },
  {
   "cell_type": "code",
   "execution_count": 23,
   "id": "a6aee3a0",
   "metadata": {},
   "outputs": [
    {
     "name": "stdout",
     "output_type": "stream",
     "text": [
      "cpu\n"
     ]
    }
   ],
   "source": [
    "device = 'cuda' if torch.cuda.is_available() else 'cpu'\n",
    "device = 'cpu'\n",
    "print(device)"
   ]
  },
  {
   "cell_type": "code",
   "execution_count": 24,
   "id": "276244b4",
   "metadata": {},
   "outputs": [],
   "source": [
    "token_model ='skt/kobart-base-v1'"
   ]
  },
  {
   "cell_type": "code",
   "execution_count": 25,
   "id": "3fccee5b",
   "metadata": {},
   "outputs": [
    {
     "name": "stderr",
     "output_type": "stream",
     "text": [
      "You passed along `num_labels=3` with an incompatible id to label map: {'0': 'NEGATIVE', '1': 'POSITIVE'}. The number of labels wil be overwritten to 2.\n",
      "You passed along `num_labels=3` with an incompatible id to label map: {'0': 'NEGATIVE', '1': 'POSITIVE'}. The number of labels wil be overwritten to 2.\n"
     ]
    }
   ],
   "source": [
    "try:\n",
    "    tokenizer = PreTrainedTokenizerFast.from_pretrained(token_model)\n",
    "    model = BartForConditionalGeneration.from_pretrained(token_model).to(device)\n",
    "except Exception as e:\n",
    "    print(f\"모델 로딩 실패: {e}\")\n",
    "    raise"
   ]
  },
  {
   "cell_type": "code",
   "execution_count": 26,
   "id": "ff34e106",
   "metadata": {},
   "outputs": [
    {
     "data": {
      "text/plain": [
       "BartForConditionalGeneration(\n",
       "  (model): BartModel(\n",
       "    (shared): BartScaledWordEmbedding(30000, 768, padding_idx=3)\n",
       "    (encoder): BartEncoder(\n",
       "      (embed_tokens): BartScaledWordEmbedding(30000, 768, padding_idx=3)\n",
       "      (embed_positions): BartLearnedPositionalEmbedding(1028, 768)\n",
       "      (layers): ModuleList(\n",
       "        (0-5): 6 x BartEncoderLayer(\n",
       "          (self_attn): BartSdpaAttention(\n",
       "            (k_proj): Linear(in_features=768, out_features=768, bias=True)\n",
       "            (v_proj): Linear(in_features=768, out_features=768, bias=True)\n",
       "            (q_proj): Linear(in_features=768, out_features=768, bias=True)\n",
       "            (out_proj): Linear(in_features=768, out_features=768, bias=True)\n",
       "          )\n",
       "          (self_attn_layer_norm): LayerNorm((768,), eps=1e-05, elementwise_affine=True)\n",
       "          (activation_fn): GELUActivation()\n",
       "          (fc1): Linear(in_features=768, out_features=3072, bias=True)\n",
       "          (fc2): Linear(in_features=3072, out_features=768, bias=True)\n",
       "          (final_layer_norm): LayerNorm((768,), eps=1e-05, elementwise_affine=True)\n",
       "        )\n",
       "      )\n",
       "      (layernorm_embedding): LayerNorm((768,), eps=1e-05, elementwise_affine=True)\n",
       "    )\n",
       "    (decoder): BartDecoder(\n",
       "      (embed_tokens): BartScaledWordEmbedding(30000, 768, padding_idx=3)\n",
       "      (embed_positions): BartLearnedPositionalEmbedding(1028, 768)\n",
       "      (layers): ModuleList(\n",
       "        (0-5): 6 x BartDecoderLayer(\n",
       "          (self_attn): BartSdpaAttention(\n",
       "            (k_proj): Linear(in_features=768, out_features=768, bias=True)\n",
       "            (v_proj): Linear(in_features=768, out_features=768, bias=True)\n",
       "            (q_proj): Linear(in_features=768, out_features=768, bias=True)\n",
       "            (out_proj): Linear(in_features=768, out_features=768, bias=True)\n",
       "          )\n",
       "          (activation_fn): GELUActivation()\n",
       "          (self_attn_layer_norm): LayerNorm((768,), eps=1e-05, elementwise_affine=True)\n",
       "          (encoder_attn): BartSdpaAttention(\n",
       "            (k_proj): Linear(in_features=768, out_features=768, bias=True)\n",
       "            (v_proj): Linear(in_features=768, out_features=768, bias=True)\n",
       "            (q_proj): Linear(in_features=768, out_features=768, bias=True)\n",
       "            (out_proj): Linear(in_features=768, out_features=768, bias=True)\n",
       "          )\n",
       "          (encoder_attn_layer_norm): LayerNorm((768,), eps=1e-05, elementwise_affine=True)\n",
       "          (fc1): Linear(in_features=768, out_features=3072, bias=True)\n",
       "          (fc2): Linear(in_features=3072, out_features=768, bias=True)\n",
       "          (final_layer_norm): LayerNorm((768,), eps=1e-05, elementwise_affine=True)\n",
       "        )\n",
       "      )\n",
       "      (layernorm_embedding): LayerNorm((768,), eps=1e-05, elementwise_affine=True)\n",
       "    )\n",
       "  )\n",
       "  (lm_head): Linear(in_features=768, out_features=30000, bias=False)\n",
       ")"
      ]
     },
     "execution_count": 26,
     "metadata": {},
     "output_type": "execute_result"
    }
   ],
   "source": [
    "model.to(device)"
   ]
  },
  {
   "cell_type": "code",
   "execution_count": 37,
   "id": "417f021f",
   "metadata": {},
   "outputs": [],
   "source": [
    "def generate_kobart(prompt: str, max_length=512):\n",
    "    inputs = tokenizer(prompt, return_tensors=\"pt\", truncation=True, max_length=max_length)\n",
    "\n",
    "    # token_type_ids 제거 (BART 계열엔 필요 없음)\n",
    "    if 'token_type_ids' in inputs:\n",
    "        del inputs['token_type_ids']\n",
    "\n",
    "    inputs = {k: v.to(device) for k, v in inputs.items()}\n",
    "    \n",
    "    # 텍스트 생성\n",
    "    outputs = model.generate(\n",
    "        **inputs,\n",
    "        max_new_tokens=256,\n",
    "        do_sample=True,\n",
    "        temperature=0.8,\n",
    "        eos_token_id=tokenizer.eos_token_id\n",
    "    )\n",
    "\n",
    "    # 전체 출력 디코딩\n",
    "    generated = tokenizer.decode(outputs[0], skip_special_tokens=True).strip()\n",
    "    \n",
    "    # 프롬프트를 포함해서 생성되므로, 프롬프트 제거\n",
    "    if generated.startswith(prompt.strip()):\n",
    "        return generated[len(prompt.strip()):].strip()\n",
    "    return generated\n"
   ]
  },
  {
   "cell_type": "code",
   "execution_count": 40,
   "id": "e527a04b",
   "metadata": {},
   "outputs": [],
   "source": [
    "def chunk_text(text: str, max_chars: int = 300) -> List[str]:\n",
    "    return [text[i:i + max_chars] for i in range(0, len(text), max_chars)]"
   ]
  },
  {
   "cell_type": "code",
   "execution_count": 44,
   "id": "ad7c6cc4",
   "metadata": {},
   "outputs": [],
   "source": [
    "def convert_to_written(spoken_text: str) -> str:\n",
    "    prompt = f\"\"\"\n",
    "다음 구술체를 문어체로 바꿔 주세요:\n",
    "\"{spoken_text}\"\n",
    "\"\"\"\n",
    "    return generate_kobart(prompt)"
   ]
  },
  {
   "cell_type": "code",
   "execution_count": 31,
   "id": "ab24939d",
   "metadata": {},
   "outputs": [],
   "source": [
    "def read_text_file(filepath: str) -> str:\n",
    "    try:\n",
    "        with open(filepath, 'r', encoding='utf-8') as file:\n",
    "            return file.read()\n",
    "    except FileNotFoundError:\n",
    "        print(f\"파일을 찾을 수 없습니다: {filepath}\")\n",
    "        return \"\""
   ]
  },
  {
   "cell_type": "code",
   "execution_count": 45,
   "id": "acc6aad4",
   "metadata": {},
   "outputs": [
    {
     "name": "stdout",
     "output_type": "stream",
     "text": [
      "여행,\n",
      "\n",
      "함 \"김\" 그 문화원에서 가기 때문에\" 왓프의 그 문화원에서 가기 때문에 굉장히 그 숙소 뿐만 아니라 그 숙소 뿐만 아니라 여행지, 아니면 아니면 아니면 어떤에서, 아니면 아니면 그 숙소 예에서 그 해산에서 그 해산사를 딱 투 보고,어요. 그 숙소 뿐만 아니라 그 숙 소 뿐만 그 숙소 뿐만 아니라 아니면 아니면 아니면 아니면 아니면 아니면 그 그 그 그 그 그 그 그 그 그 딱 투이드어요. 그 대학의, 러시아 대학원의 한국 학생이 그 공부를 하는 사람을 해설하는 있어요. 음. 그 너무 재밌고, 볼만하고. 거기서 어떤 거 들어가 어떤 거냐면 우리가 그 시베리아 그 뭐죠? 그 뭐죠? 그 열차 있 있죠? 횡단 열차. 많 열 어르신 씨가 집에서 타고, 여름이 어디에서 이렇게 축하해서 그렇게 축하해서 어디까지 딱 가요. 거기 그 문화원에서 가기 때문에 그렇게 그 문화원에서 가기 때문에 굉장히 그 숙소 뿐만 아니라 그 숙소 뿐만 아니라 그 숙소 뿐만 아니라 여행지, 아니면 아니면 아니면 아니면 아니면 아니면 그런 여행지, 아니면 그 숙소 뿐만 아니면 아니면 아니면 아니면 아니면 아니면 아니면 아니면 아니면 아니면 아니면 아니면 아니면 아니면 아니면 아니면 그 그 그 그 그 그 그 그 그 그 그 그렇게 그렇게 그렇게 있어요. 있어요. 음. 그 그 그 그 그 그 그 그 그 그 그 그 그 뭐\n",
      "\n",
      "네가한테 가는 거예요. 음. 거 거야. 음. 거 네가 그 시빡 시비를 시빡 시비를 몽골까지 갔 그렇게 그렇게 가는 가는 가는 있어요. 음. 거 뭐라고 그렇게 그렇게 그렇게 그렇게 그렇게 그 그 그 시빡 시비를 시프 시비를 시까지 갔 그래서 그래서 그러니까 그러니까 그러니까 굉장히 그 그 그 여행, 여행, 여행지. 그러니까 그러니까 그러니까 굉장히 그 그 그 그 그 그 그 그 그 그 그 그 그 그 그 그 그 그 그 그 그 그 그 그 그 그 그 그 그 그 그 막 막 막 막 막 막 막 막 막 막 막 막 막 막 올라가서 거기 올라가서 굉장히 그 그 막 올라가서 거기 올라가서 굉장히 불편하지만. 음. 그리고 굉장히 시 시끄럽고. 음. 그래서 그래서 그렇게 막 막 막 막 막 막 막 막 막 올라가     그렇게 그렇게 막 그~ 하 하잖아요.. 그렇 그런 거기 가는 있으니까. 그렇죠. 그 가는요. 음. 거예. 음. 거 거야. 그 그게 그게 그게 그렇게 그 시빡 시비를 시빡 시비를 시 그렇게 시빡 시비를 시 시 그 거기 거기 그래서 그러니까 그러니까 그러니까 그러니까 굉장히 그 그 그 그 그 그 그 그 그 그 그 그 그 그 그 그 그 그 그 거기 거기 거기 그 그 그 그 그 막 그게 막 막 막 막\n",
      "\n",
      "그게 하고 하고 또 후대로 가서 진동하고 또 진동하고 또 또 진동하고 또 또 또 또 진동하고 또 다시 여행 가면 거기 이제 그 그 회사자가 고고마다 다르잖아요. 네. 그 그 그 그 그 그 그 그 그 그 그 그 그 그 그 그 그 그 그 그 그 그 그 그 그 거라고 여행은은 이제 또 다 다 같은 문화원 이사들 뭐 그런 그런 그런 그런 그런 그런 그런 그런 그런 그런 그런 그런 그런 그런 그런 그런 그런 그런 그런 그런 그런 그런 그런 그런 그런 그런 그런 그런 그런 그런 그런 그런 그런 그런 그런 그런 그런 그런 그런 그런 그런 그런 그런 그런 그런 그런 그런 그런 그런 그런 그런 그런 그런 그런 그런 그런 그런 그런 그런 그런 사람들 때문에 되게 좋아요. 음. 그래 그래 거예요. 그게 그렇게 그렇게 그렇게 그렇게 그렇게 사람들이요. 그래서 이 내년에도 그렇게 많아요. 그래서 이 내년에도 봄에 일본 갈 거예요. 일본. 일본. 일본. 일본 갈 거고. 그 다음에 또 백도산을 또 간다고 그랬거든요. 그거든요. 그 그 그 그렇게 그런 이런 그런 그런 그런 그런 그래서 그 그 그 그 그 그게 그게 좋았고. 음됐고. 음. 그 그 그 그 그 그 그 그 그다음에여행은 이제 또 다 다 같은 문화원 이사들 뭐 그런 그런 그런 그런 그런 그런 그런 그런 그런\n",
      "\n",
      "네. 그래서기 때문에 코스가 좀 달라요. 네. 네. 네. 네. 근데 내년 봄에 4월 달 달 달에는 일본을 가고.  코스가 좀 달라요. 네. 네. 네. 네. 네. 네. 네. 근데 내년에 4월 달 달 달 달 달 달 달 일본 가고. 음. 그 8월 8월 달에는. 거 거고. 음. 백 백 거 거고. 음. 그리고 이제 또 어디 어디 어디 어디를 나가냐면 비행기 열착 한. 자서 한. 자서시 반의 비행기를 걸가. 아니. 아니. 아니. 열. 예를 들면. 예를 들면 안동을 가거나 아니면 부산시켰을을 가거나 이렇게 일래를 한 번씩 한 번씩 꼭 기차 여행 있는데 그 기차 여행 있는데 그 기차 여행을 우리가 7명을 다 한꺼번에 대한테 대어서 얻어요.요. 그렇게 한 번씩 한 번씩 다 다 다 다 다 다 말이어요. 다 그렇게 그렇게 가는 거예요. 음. 그래서 칸, 그래서, 음, 지금, 그 이 이 하나, 다는는. 이  달 달 달 달 달 달 달 달 걸 걸 가고. 음. 그 8월 달에 걸 걸 거고. 아니. 백도산을 갈 거고. 음. 그리고 이제 또 또 또 또 또 또 또 또 또 또 또 또 또 또 소를 가\n",
      "\n",
      "춤추는\". 춤추는 칸. 음. 이 춤추는 칸. 음. 이 본은 잘 먹는 칸. 이 이 칸. 이 이 칸. 이 이 칸은 이 칸은 이 칸. 너무 너무 너무 너무 너무 너무 할 할 말이 많아요. 음. 진짜요. 음. 진짜요. 네. 그래서 그래서 그렇게 가격이 만약에 싸다 그런 건 아니지만. 준겨운만큼 편안 집에서 그렇게 잘하게 잘 집에서 잘 많이 많이 잘 잘 먹고 잘 놀다 잘 오는 것이에요. 음. 그래서 너무 너무 좋은 기억이 들 있어요. 음. 뭐 중급도 가고 예를 들면 뭐 뭐 뭐    으니까 뭐 뭐 뭐 저 버 주세요:예.\".\" 춤추는 칸. 음. 이. 춤추는 칸. 음. 이 잘 먹는 칸. 음. 이 먹는 칸. 이 먹는 칸. 이 이 칸은 이 칸은 이 칸은 이 칸은 이 칸은 가게끼리 가는 칸. 너무 너무 너무 너무 너무 할 할 말이 많아요. 음. 진짜요. 음. 진짜요. 네. 그래서 그래서 그래서 그래서 그렇게 그렇게 그렇게 그렇게 그렇게 가격이 만약에 싸다 그런 건 아니지만. 준 여러분만큼 많이 다 그런 건 아니지만. 준 그리스도만큼만큼 많이하게 잘하게 잘하게 좋은하게 잘하게 잘 잘 잘하게\n",
      "\n",
      "그게 뭐 뭐야. 지금 막 차 세워 주세요: 김정은\"아 뭐야. 지금 막 차 세워놓고 지금 다 세우고. 아 뭐야. 지금 막 차 세워놓고 지금 다 세우고. 아 진짜요. 지금 막 지금 차 세워놓고놓고 지금 다 세우고. 아 진짜요. 지금 막 차 세워 세워놓고.. 아 진짜요. 그래서 그래서 제가. 그래서 선생님 전화 와 가지고 통화하는 거예요. 아. 그래서 우리가. 우리가 그 그 그 그 선생님 전화 걸 선생님 전화 와 가지고 전화 와 가지고 통화하는 거예요. 아. 그래서 우리가. 별로가 없었는데 제가 방해가 닌 그 그런 거예요. 음. 음. 음. 그래서. 그래서. 그래서. 별로가 없었는데 제가 방해가  질병 걸리는되는 건 아니에요. 그런데. 그런데. 그런데. 그런데 이것도 여행의 일종이고 선생님하고 하는 것도 아까 여행하니까 생각이 나서서 이제 다 다 다 충분히 맞췄면 되는 거고요. 네. 네. 네. 네. 그래서. 자. 지금 막 차 세워 세워놓고 지금 다 세우고. 아 진짜. 아 진짜요. 아 진짜요. 지금 다요. 지금 지금 지금 막 그렇게 그렇게 그래서 그래서 그래서요. 그래서 제가. 그래서 그래서 그래서 그래서 그래서 그래서 그러다가요. 그래서 선생님   선생님이 전화 와 가지고 통화하는 통화하는 거는 아. 그래서 우리가. 우리가 그 주민자취에\n",
      "\n",
      "그게 그렇게음 구술체를 구술체를 구술체를 문도 써야 되고 먹 먹 먹 먹을 먹고 먹든 해야 되고. 아. 그런데. 나서. 그리고 하고. 네. 네.요. 네. 네. 네. 네. 네. 네. 네. 컴퓨터 들고 왔습니다. 그럼. 잠깐. 네. 그. 쉬는 타임이라고 생각 많이 많이 좋은 것 같아요.요. 그렇게  그게요.요.요.요. 그렇죠. 아죠. 아. 생각      있! 네. 늦 늦어서. 네. 뭐~ 뭐~ 뭐~ 뭐~    구술체를 그~ 그~ 그~ 뭐~ 다음 구술체를 구술체를 문어체로 바꿔 주세요: 낡은 제 낡은 은 살던 살던 어서 어서 어서 문도 써야 되고 뭐~ 당연히 그렇게 뭐~ 문도 써야 되고 문도 써야 되고 먹 먹 먹 먹 먹 먹  도 써야 되고 먹든 해야 되고. 아. 그런데. 그런데. 네. 하고. 네. 네. 네. 네. 네. 네. 네. 네. 네. 네. 네. 네. 네. 컴퓨터 들고 왔습니다. 그럼. 잠깐. 네. 네. 네. 네. 컴퓨터 들고 왔습니다. 그럼. 잠깐. 네. 그 그. 쉬는 타임이라고 생각하시는 좋을 것 같아요.요.요.요.요. 그렇죠. 그렇죠. 아죠. 아. 아. 응. 너무 늦어서. 너무 늦어서. 네. 네. 네. 네. 네. 네. 네.요.요.요.\n"
     ]
    }
   ],
   "source": [
    "if __name__ == \"__main__\":\n",
    "    filepath = 'D:/gap_year/poc-story-field-ai/STORY/LLM/travel_test.txt'\n",
    "    content = read_text_file(filepath)\n",
    "    if content:\n",
    "        chunks = chunk_text(content)\n",
    "        written_parts = [convert_to_written(chunk) for chunk in chunks]\n",
    "        written = '\\n\\n'.join(written_parts)\n",
    "        print(written)"
   ]
  },
  {
   "cell_type": "code",
   "execution_count": 46,
   "id": "08b50552",
   "metadata": {},
   "outputs": [
    {
     "name": "stdout",
     "output_type": "stream",
     "text": [
      "\n",
      "\n",
      "--- Chunk 1 ---\n",
      "- 살던\" 여행, 구술체를 문어체로 바꿔 주세요: 뭐라고\" 여행, 여행, 여행, 여행, 여행하면 혹시 기억에 남는 여행이라든지든지든지 아니면 엄청 좋 좋 좋았던 여행에 대해서 말씀해 주 주 주 주 주 주 박 박 해 주 주 주 주 주 주 실까 있을까 있을까 있을까요? 있을까요? 네. 여행하면 여행하면 배를 타고, 인고, 인차를 세 배를 가지고 그 그 그 그 그 그 그 그 그 그 그 그 그 그 그 그 그 그 그 그 들어요.요.요.요.요.요.요.요. 거라고 있어요.요.요.요.요.요.요.요.요.요. 네. 네. 그렇게요.요.요.요.요. 그런데 그 그 그 전에 120명 정도 백두산만 간 게 아니라 러시아를 10박 11일, 인도 10박 11일, 뭐 중국, 뭐 뭐 뭐 뭐 뭐 뭐 뭐 뭐 할  뭐라고없이 이번에는 그 그 그 그 울릉도 갔다 왔고요. 그래서 그래서 늘 그 그 그 단체로로 가기 때문에 그 그 그 그 단체로 가기 때문에 그 그 그 그 그 단체로 가기 때문에 문화원, 우리예. 그렇게 그리 그리 그리 그리 그리 그리고,고,고, 인고,고, 인차를 세 배를 세 배를 가지고 그 에 그 에이에 그 에이에 그 에이에 으산. 음. 백두산\n",
      "\n",
      "\n",
      "--- Chunk 2 ---\n",
      "\"김\"\" 왓프의 그 문화원에서 가기 때문에 굉장히 그 숙소 뿐만 아니라 그 숙소 뿐만 아니라 여행지, 아니면 아니면 아니면 아니면 그 숙소 가까운에서, 아니면 그 그 그 숙소에서, 그 그 숙소 때문에, 거기서 거기서 거기 거기서 거기서 그 숙소 뿐만 많 그 숙소 뿐만 아니라 그 숙소 뿐만 아니라요. 그걸, 아니면 아니면 아니면 그 숙소에,어요. 제가, 러시아 대학, 러시아 대학원의 한국 학생이 그 공부를 하는 사람을 해설하는 거예요. 음. 그 그 그 그 그 그 그리고, 볼고, 볼만하고. 거기서 어떤 거 들어가 어떤 거냐면 우리가 그 시베리아 그 뭐죠? 그 그어서 있 있죠? 횡단 열차. 그 그 여러분 집에서 그렇게 태어나, 여름이 어디에서 이렇게 축하해서 이렇게 축하해서 어디까지 딱 가요. 거기 그 그 그 문화원에서 가기 때문에 굉장히 그 숙소 뿐만 그 숙소 뿐만 아니라 그 숙소 뿐만 아니라 여행지, 아니면 아니면 거기서 그 숙소 뿐만 아니라 여행지, 아니면 아니면 여행지, 아니면 그 숙소로, 아니면 그 그 그 그 그 그 그 그 그 그 그 그 그 그 거기서어요.어요. 러시아 대학의, 러시아 대학, 러시아 대학원의 한국 한국 학생이 한국 학생이 그 공부를 하는 하는 그걸 그 그걸 그렇게 죽는 쓰는 있어요. 음. 그 그 그 그 그 그 그 그\n",
      "\n",
      "\n",
      "--- Chunk 3 ---\n",
      "따라서 가는어요. 음. 거 뭐라고 걸 걸 들 들 뭐라고 그렇게 가는 있어요. 음. 거네. 음. 거 그게 그게 그게 그 시빡 시비를 시몽 시비를 시까지까지 갔거든요. 음. 그래서 거기 거기 거기 거기 거기 그 그 시빡 시비를 시 그렇게 그래서 거기, 그 그 여행, 여행지. 그러니까 그러니까 그러니까 굉장히 그 그 그 그 그 그 그 그 그 그 그 그 그 그 그 그 그 그 그 그 그 그 그 그 그 그 그 그 그 그 그 그 그 그 그 그 그 그 막 막 막 막 막 막 막 막 막 막 막 막 막 막 저기서 거기 올라가서 굉장히 불편한. 음. 그리고 굉장히 시 시끄럽고. 음. 그래서 그래서 그래서 그래서 그냥 막 막 막 막 막 막 막 막 보니까    그렇게 막 그게 하 하 하잖아요.. 그래서 그게 가는 있으니까. 그렇 그래서 가는 있어요. 음. 거네. 음. 거 뭐라고 그 뭐라고 그 그게 또 그 시빡 시비를 시빡 시비를 시 그렇게 시 그렇게까지 갔거든요. 음. 그래서 거기 거기, 그 여행, 여행지. 그러니까 그러니까 그러니까 그러니까 굉장히 그 그 그 그 그 그 그 그 그 그 그 그 그 그 그 그 거기, 그 거기 거기 거기 거기 거기 열악해요. 음. 시단 그 그 그 그\n",
      "\n",
      "\n",
      "--- Chunk 4 ---\n",
      "그게 하고 하고 또 후대로 가서 진동하고 또 진동하고 또 또 진동하고 또 또 또 또 진동하고 또 다시 여행 가면 거기 그 그 그 그 그 회사자가 고고마다 다르잖아요. 네. 그 그 그 그 그 그 그 그 그 그 그 그 그 그 그 그 그 그 그 그 네. 그 그 그게 그런 그런 살던 살던 여행은 이제 또 다 다 같은 문화원 이사들 뭐 그런 그런 그런 그런 그런 그런 그런 그런 그런 그런 그런 그런 그런 그런 그런 그런 그런 그런 그런 그런 그런 그런 그런 그런 그런 그런 그런 그런 그런 그런 그런 그런 그런 그런 그런 그런 그런 그런 그런 그런 그런 그런 그런 그런 그런 그런 그런 그런 그런 그런 그런 그런 그런 그런 그런 사람이 그 네. 네. 뭐 볼 거리가. 네. 뭐 볼거리가. 네. 뭐 볼거리가. 네. 뭐 볼거리가. 네. 네. 그렇게 그렇게 그렇게 그렇게 그렇게 그렇게요. 그래서 이 내년에도 그래서 그래서 그래서 이 내년에도 올에 일본 갈 거예요. 일본. 일본. 일본. 그 거고. 그 다음에 또 백도산을 또 뭐 그런 그래서 그 그 그 그 그 그 그 그 그 그 그 그 그 그 그 그 그 그 그 그 그 그 그 그 그 그 그 그 그 그 그 그 그 그 그 그 그 그 그 그 그 그 그 그 그 편하고 좋고.\n",
      "\n",
      "\n",
      "--- Chunk 5 ---\n",
      "그럼 기 때문에 코스가 좀 달라요. 네. 네. 근데 코스가 좀 달라요. 네. 근데 내년 봄에 4월 달 달 달에는 일본을 가고. 음. 코스가 좀 달라요. 네. 네. 네. 네. 네. 네. 네. 근데 내년에 4월 달 달 달 달 달 달 달 달 달 가고. 음. 8월 8월 8월 8월 달에. 거 거고. 음. 그리고 또 또 또 또 어디를냐면 비행기 열착 한. 자서 한. 자서시 반 한. 자서시 반의 비행기를. 아니. 아니. 아니. 열. 열차를. 예를 들면. 예를 들면 안 들 들 가거나 아니면 부산으로,을을 가거나 이렇게 일래를 한 번씩 한 번씩 꼭 기차 여행 있는데 그 기차 여행을 우리가 7명을 다 한꺼번에 대들어어요. 한 번씩 한 번씩 한 번씩 한 번씩 다 다 대한테어요. 거야. 그렇게 그렇게 그렇게 그렇게 가는 있어요. 음. 그래서 ,, 그래서, 음, 그러니까, 그러면, 이 이 원래 이 있는은 노는. 이 칸. 이 달 달 달 달 달 달 달을 일본을 가고. 음. 뭐 8월 달 걸 걸 걸 걸 거고. 아니. 백 거 거 거고. 음. 그리고 이제 또 또 또 또 또 또 또 또 또 또 또 어떤 어떤 어떤\n",
      "\n",
      "\n",
      "--- Chunk 6 ---\n",
      "춤추는\". 춤추는 칸. 음. 이 춤추는 칸. 음. 이 음식 먹는 칸. 이 먹는 칸. 이 이 칸. 이 이 칸. 너무 너무 너무 너무 너무 너무 할 말이 많아요. 음. 진짜요. 음. 진짜요. 네. 그래서 그래서 그렇게 가격이 만약에 싸다 그런 건 아니지만. 준 거야. 거야. 거야. 부모님 부모님 부모님만큼 편안하게 잘 잘 잘 잘 먹고 잘 놀다 잘 오는 것이에요. 음. 그래서 너무 너무 좋은 기억이 들 있어요. 음. 뭐 중 본 소음 구술체를 좋아 주라고 그렇게 또 이렇게 좋아 주세요: 자세\". 춤추는 칸. 음. 춤추는 칸. 음. 이 밥은 잘 먹는 칸. 음. 이 먹는 칸. 이 먹는 칸. 이 이 칸은 이 칸은 이 칸은 이 칸은 이 칸은 이 칸은 가게끼리 가는 칸. 너무 너무 너무 너무 너무 너무 할 할 말이 많아요. 음. 진짜요. 음. 진짜요. 네. 그래서 그래서 그래서 그래서 이제 그렇게 그렇게 가격이 만약에 싸다 그런 건 아니지만. 준 거야.만큼 그렇게 그렇게 그렇게 그렇게 그렇게 그렇게 그렇게 그렇게 그렇게 그렇게 정다 그런 건 아니지만. 준 자네만큼 잘 그렇게 그렇게 그렇게 그렇게 그렇게 그렇게 그렇게 그렇게 그렇게 그렇게 잘 좋아다 그런 건 아니지만. 준\n",
      "\n",
      "\n",
      "--- Chunk 7 ---\n",
      "어서\" 뭐야. 지금 막 차 세워 주세요: 김정은\"아 뭐야. 지금 막 차 세워놓고 지금 다 세우고. 아 뭐야. 지금 막 차 세워놓고 지금 다 세우고. 아 세워. 아 진짜요. 지금 막 차 세워놓고놓고. 지금 차 세워놓고.. 아 진짜요. 그래서요. 그래서 그래서요. 그래서 선생님이 전화 와 가지고 통화하는 거예요. 아요. 그래서 우리가. 우리가 선생님 전화 와 가지고 선생님 전화 와 가지고 통화하는하는어요. 아. 그래서 우리가. 우리가 그 주민자취에 있다라는 동 산 그 그 그 그 그 시에서 통에서 주민자취에서 주민자취에서 주민자취 회원들이 온 거예요. 음. 음. 음. 그래서. 그래서. 별로가 없었는데 제가 방해가  선생님이되는 건 아니에요. 그런데. 그런데. 그런데 이것도 여행의 일종이고 선생님하고 하는 것도 아까 여행하니까 생각이 나서서 이제 다 다 다 충분히 맞췄면 되는 거고요. 네. 네. 네. 네. 네. 그래서 그래서 그냥 차 세워놓고 지금 다 세워놓고. 아 진짜. 아 진짜. 아 진짜요. 지금 진짜요. 지금 지금 지금 지금 한 전 그래서 그래서 그래서 그래서요. 그래서 그래서 그렇게 그래서 그래서 우리가, 그래서 선생님 전화 와 와 가지고 전화 와 가지고 통화하는 그리고 통화하는 거예요. 아. 그래서 우리가. 우리가 그\n",
      "\n",
      "\n",
      "--- Chunk 8 ---\n",
      "그럼다음 구술체를 구술체를 구술체를 구문문도 써야 되고 먹 먹 먹 먹 먹 먹 먹 먹 먹 먹는 해야 되고. 아. 그런데. 해. 네. 하고. 네. 네. 네. 네. 네. 네. 컴퓨터 들고 왔습니다. 그럼. 잠깐. 네. 네. 네. 네. 네. 네. 컴퓨터 들고 왔습니다. 그럼. 잠깐. 네. 그. 쉬는 타임이라고 생각하시는 좋을 것 같아요.요. 그렇게 이런 것 같아요. 그렇 그렇죠. 아. 아. 아. 응. 너무 늦어서. 네. 네. 네. 어~ 자네 자네 하나  구술체를 아예 국어 국어 한 구술체를 구술체를 살던 다음 구술체를 문어체로 바꿔 주세요: 북한이 따라서 전통적인 시 어 어체로체로 바꿔 주세요:비한 씨가 살아야 살아야 되어야 털 털 털 털 털 문도 써야 되고 먹 먹 먹 먹든 해야 되고. 아. 그런데. 그런데. 시작. 별로 하고. 네. 네. 네. 네. 네. 네. 네. 네. 네. 네. 컴퓨터 들고 왔습니다. 그럼. 잠깐. 네. 네. 네. 네. 네. 컴퓨터 들고 왔습니다. 그럼. 잠깐. 네. 그. 쉬는 타임이라고 생각하시는 좋을 것 같아요.요.요.요. 예. 그렇죠. 아요. 아. 아.    너무 늦어서. 너무 늦어서. 네. 네. 계신 시지만 잠깐.\n"
     ]
    }
   ],
   "source": [
    "for i, chunk in enumerate(chunks):\n",
    "    result = convert_to_written(chunk)\n",
    "    print(f\"\\n\\n--- Chunk {i+1} ---\\n{result}\")"
   ]
  }
 ],
 "metadata": {
  "kernelspec": {
   "display_name": "POC_STT",
   "language": "python",
   "name": "python3"
  },
  "language_info": {
   "codemirror_mode": {
    "name": "ipython",
    "version": 3
   },
   "file_extension": ".py",
   "mimetype": "text/x-python",
   "name": "python",
   "nbconvert_exporter": "python",
   "pygments_lexer": "ipython3",
   "version": "3.8.20"
  }
 },
 "nbformat": 4,
 "nbformat_minor": 5
}
